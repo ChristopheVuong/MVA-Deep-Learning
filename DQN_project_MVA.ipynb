{
 "cells": [
  {
   "cell_type": "markdown",
   "metadata": {
    "colab_type": "text",
    "id": "xXvJwYKqIhYi"
   },
   "source": [
    "**You may need to install [OpenCV](https://pypi.python.org/pypi/opencv-python) and [scikit-video](http://www.scikit-video.org/stable/).**"
   ]
  },
  {
   "cell_type": "code",
   "execution_count": 0,
   "metadata": {
    "colab": {
     "base_uri": "https://localhost:8080/",
     "height": 171
    },
    "colab_type": "code",
    "executionInfo": {
     "elapsed": 7853,
     "status": "ok",
     "timestamp": 1581930855535,
     "user": {
      "displayName": "Christophe V",
      "photoUrl": "",
      "userId": "02288011239955927292"
     },
     "user_tz": -60
    },
    "id": "qlu5CAREIqqG",
    "outputId": "26a84bb8-d8db-4206-e552-1e8010d5ada7"
   },
   "outputs": [
    {
     "name": "stdout",
     "output_type": "stream",
     "text": [
      "Collecting scikit-video\n",
      "\u001b[?25l  Downloading https://files.pythonhosted.org/packages/b1/a6/c69cad508139a342810ae46e946ebb3256aa6e42f690d901bb68f50582e3/scikit_video-1.1.11-py2.py3-none-any.whl (2.3MB)\n",
      "\u001b[K     |████████████████████████████████| 2.3MB 4.6MB/s \n",
      "\u001b[?25hRequirement already satisfied: numpy in /usr/local/lib/python3.6/dist-packages (from scikit-video) (1.17.5)\n",
      "Requirement already satisfied: pillow in /usr/local/lib/python3.6/dist-packages (from scikit-video) (6.2.2)\n",
      "Requirement already satisfied: scipy in /usr/local/lib/python3.6/dist-packages (from scikit-video) (1.4.1)\n",
      "Installing collected packages: scikit-video\n",
      "Successfully installed scikit-video-1.1.11\n"
     ]
    }
   ],
   "source": [
    "!pip install scikit-video"
   ]
  },
  {
   "cell_type": "code",
   "execution_count": 0,
   "metadata": {
    "colab": {},
    "colab_type": "code",
    "id": "3uNO_afQIhYl"
   },
   "outputs": [],
   "source": [
    "import keras\n",
    "import numpy as np\n",
    "import io\n",
    "import base64\n",
    "from IPython.display import HTML\n",
    "import skvideo.io\n",
    "import cv2\n",
    "import json\n",
    "\n",
    "from keras.models import Sequential, model_from_json\n",
    "from keras.layers.core import Dense\n",
    "from keras.optimizers import sgd\n",
    "from keras.layers import Flatten, Conv2D, MaxPooling2D, Activation, AveragePooling2D, Reshape, BatchNormalization"
   ]
  },
  {
   "cell_type": "markdown",
   "metadata": {
    "colab_type": "text",
    "id": "FRMNEg3FIhYr"
   },
   "source": [
    "# MiniProject on Deep Reinforcement Learning"
   ]
  },
  {
   "cell_type": "markdown",
   "metadata": {
    "colab_type": "text",
    "id": "GAfwA-B8IhYs"
   },
   "source": [
    "$\\DeclareMathOperator*{\\argmax}{argmax}$\n",
    "$\\DeclareMathOperator*{\\argmin}{argmin}$\n",
    "\n",
    "__Notations__: $E_p$ is the expectation under probability $p$. Please justify each of your answer and widely comment your code."
   ]
  },
  {
   "cell_type": "markdown",
   "metadata": {
    "colab_type": "text",
    "id": "TEkx_SmcIhYu"
   },
   "source": [
    "# Context"
   ]
  },
  {
   "cell_type": "markdown",
   "metadata": {
    "colab_type": "text",
    "id": "i0W2crSIIhYv"
   },
   "source": [
    "In a reinforcement learning algorithm, we modelize each step $t$ as an action $a_t$ obtained from a state $s_t$, i.e. $\\{(a_{t},s_{t})_{t\\leq T}\\}$ having the Markov property. We consider a discount factor $\\gamma \\in [0,1]$ that ensures convergence. The goal is to find among all the policies $\\pi$, one that maximizes the expected reward:\n",
    "\n",
    "\\begin{equation*}\n",
    "R(\\pi)=\\sum_{t\\leq T}E_{p^{\\pi}}[\\gamma^t r(s_{t},a_{t})] \\> ,\n",
    "\\end{equation*}\n",
    "\n",
    "where: \n",
    "\\begin{equation*}p^{\\pi}(a_{0},a_{1},s_{1},...,a_{T},s_{T})=p(a_{0})\\prod_{t=1}^{T}\\pi(a_{t}|s_{t})p(s_{t+1}|s_{t},a_{t}) \\> .\n",
    "\\end{equation*}\n",
    "\n",
    "We note the $Q$-function:\n",
    "\n",
    "\\begin{equation*}Q^\\pi(s,a)=E_{p^{\\pi}}\\left[\\sum_{t\\leq T}\\gamma^{t}r(s_{t},a_{t})|s_{0}=s,a_{0}=a\\right] \\> .\n",
    "\\end{equation*}\n",
    "\n",
    "Thus, the optimal Q function is:\n",
    "\\begin{equation*}\n",
    "Q^*(s,a)=\\max_{\\pi}Q^\\pi(s,a) \\> .\n",
    "\\end{equation*}\n",
    "\n",
    "In this project, we will apply the deep reinforcement learning techniques to a simple game: an agent will have to learn from scratch a policy that will permit it maximizing a reward."
   ]
  },
  {
   "cell_type": "markdown",
   "metadata": {
    "colab_type": "text",
    "id": "V_tRNxDoIhYv"
   },
   "source": [
    "## The environment, the agent and the game"
   ]
  },
  {
   "cell_type": "markdown",
   "metadata": {
    "colab_type": "text",
    "id": "rPViJEuxIhYw"
   },
   "source": [
    "### The environment"
   ]
  },
  {
   "cell_type": "markdown",
   "metadata": {
    "colab_type": "text",
    "id": "gCVH00u8IhYx"
   },
   "source": [
    "```Environment``` is an abstract class that represents the states, rewards, and actions to obtain the new state."
   ]
  },
  {
   "cell_type": "code",
   "execution_count": 0,
   "metadata": {
    "colab": {},
    "colab_type": "code",
    "id": "gTaMz0Y1IhYy"
   },
   "outputs": [],
   "source": [
    "class Environment(object):\n",
    "    def __init__(self):\n",
    "        pass\n",
    "\n",
    "    def act(self, act):\n",
    "        \"\"\"\n",
    "        One can act on the environment and obtain its reaction:\n",
    "        - the new state\n",
    "        - the reward of the new state\n",
    "        - should we continue the game?\n",
    "\n",
    "        :return: state, reward, game_over\n",
    "        \"\"\"\n",
    "        pass\n",
    "\n",
    "\n",
    "    def reset(self):\n",
    "        \"\"\"\n",
    "        Reinitialize the environment to a random state and returns\n",
    "        the original state\n",
    "\n",
    "        :return: state\n",
    "        \"\"\"\n",
    "        pass\n",
    "    \n",
    "    def draw(self):\n",
    "        \"\"\"\n",
    "        Visualize in the console or graphically the current state\n",
    "        \"\"\"\n",
    "        pass"
   ]
  },
  {
   "cell_type": "markdown",
   "metadata": {
    "colab_type": "text",
    "id": "3_kY_dADIhY1"
   },
   "source": [
    "The method ```act``` allows to act on the environment at a given state $s_t$ (stored internally), via action $a_t$. The method will return the new state $s_{t+1}$, the reward $r(s_{t},a_{t})$ and determines if $t\\leq T$ (*game_over*).\n",
    "\n",
    "The method ```reset``` simply reinitializes the environment to a random state $s_0$.\n",
    "\n",
    "The method ```draw``` displays the current state $s_t$ (this is useful to check the behavior of the Agent).\n",
    "\n",
    "We modelize $s_t$ as a tensor, while $a_t$ is an integer."
   ]
  },
  {
   "cell_type": "markdown",
   "metadata": {
    "colab_type": "text",
    "id": "0M7wX6PPIhY2"
   },
   "source": [
    "### The Agent"
   ]
  },
  {
   "cell_type": "markdown",
   "metadata": {
    "colab_type": "text",
    "id": "uPL2FYaSIhY3"
   },
   "source": [
    "The goal of the ```Agent``` is to interact with the ```Environment``` by proposing actions $a_t$ obtained from a given state $s_t$ to attempt to maximize its __reward__ $r(s_t,a_t)$. We propose the following abstract class:"
   ]
  },
  {
   "cell_type": "code",
   "execution_count": 0,
   "metadata": {
    "colab": {},
    "colab_type": "code",
    "id": "HCO5usSSIhY4"
   },
   "outputs": [],
   "source": [
    "class Agent(object):\n",
    "    def __init__(self, epsilon=0.1, n_action=4):\n",
    "        self.epsilon = epsilon\n",
    "        self.n_action = n_action\n",
    "    \n",
    "    def set_epsilon(self,e):\n",
    "        self.epsilon = e\n",
    "\n",
    "    def act(self,s,train=True):\n",
    "        \"\"\" This function should return the next action to do:\n",
    "        an integer between 0 and 4 (not included) with a random exploration of epsilon\"\"\"\n",
    "        if train:\n",
    "            if np.random.rand() <= self.epsilon:\n",
    "                a = np.random.randint(0, self.n_action, size=1)[0]\n",
    "            else:\n",
    "                a = self.learned_act(s)\n",
    "        else: # in some cases, this can improve the performance.. remove it if poor performances\n",
    "            a = self.learned_act(s)\n",
    "\n",
    "        return a\n",
    "\n",
    "    def learned_act(self,s):\n",
    "        \"\"\" Act via the policy of the agent, from a given state s\n",
    "        it proposes an action a\"\"\"\n",
    "        pass\n",
    "\n",
    "    def reinforce(self, s, n_s, a, r, game_over_):\n",
    "        \"\"\" This function is the core of the learning algorithm. \n",
    "        It takes as an input the current state s_, the next state n_s_\n",
    "        the action a_ used to move from s_ to n_s_ and the reward r_.\n",
    "        \n",
    "        Its goal is to learn a policy.\n",
    "        \"\"\"\n",
    "        pass\n",
    "\n",
    "    def save(self):\n",
    "        \"\"\" This function returns basic stats if applicable: the\n",
    "        loss and/or the model\"\"\"\n",
    "        pass\n",
    "\n",
    "    def load(self):\n",
    "        \"\"\" This function allows to restore a model\"\"\"\n",
    "        pass"
   ]
  },
  {
   "cell_type": "markdown",
   "metadata": {
    "colab_type": "text",
    "id": "zT6BY82zIhY-"
   },
   "source": [
    "***\n",
    "__Question 1__:\n",
    "Explain the function act. Why is ```epsilon``` essential?"
   ]
  },
  {
   "cell_type": "markdown",
   "metadata": {
    "colab_type": "text",
    "id": "RKiIe0AFIhY_"
   },
   "source": [
    "The act function makes an action in the environnement depending on the phase we're in. In the training phase, we perform a random action with an $\\epsilon$ probability to do exploration and perform an action with the learned policy with a probability of $ 1- \\epsilon$ to evaluate our current policy. $\\epsilon$ is meant to avoid getting stuck in local reward optimas.\n",
    "In the test phase, the agent performs the best action he learned for the current state."
   ]
  },
  {
   "cell_type": "markdown",
   "metadata": {
    "colab_type": "text",
    "id": "oJlXYrPOIhZA"
   },
   "source": [
    "***\n",
    "### The Game"
   ]
  },
  {
   "cell_type": "markdown",
   "metadata": {
    "colab_type": "text",
    "id": "wljvTZXUIhZA"
   },
   "source": [
    "The ```Agent``` and the ```Environment``` work in an interlaced way as in the following (take some time to understand this code as it is the core of the project)\n",
    "\n",
    "```python\n",
    "\n",
    "epoch = 300\n",
    "env = Environment()\n",
    "agent = Agent()\n",
    "\n",
    "\n",
    "# Number of won games\n",
    "score = 0\n",
    "loss = 0\n",
    "\n",
    "\n",
    "for e in range(epoch):\n",
    "    # At each epoch, we restart to a fresh game and get the initial state\n",
    "    state = env.reset()\n",
    "    # This assumes that the games will end\n",
    "    game_over = False\n",
    "\n",
    "    win = 0\n",
    "    lose = 0\n",
    "    \n",
    "    while not game_over:\n",
    "        # The agent performs an action\n",
    "        action = agent.act(state)\n",
    "\n",
    "        # Apply an action to the environment, get the next state, the reward\n",
    "        # and if the games end\n",
    "        prev_state = state\n",
    "        state, reward, game_over = env.act(action)\n",
    "\n",
    "        # Update the counters\n",
    "        if reward > 0:\n",
    "            win = win + reward\n",
    "        if reward < 0:\n",
    "            lose = lose -reward\n",
    "\n",
    "        # Apply the reinforcement strategy\n",
    "        loss = agent.reinforce(prev_state, state,  action, reward, game_over)\n",
    "\n",
    "    # Save as a mp4\n",
    "    if e % 10 == 0:\n",
    "        env.draw(e)\n",
    "\n",
    "    # Update stats\n",
    "    score += win-lose\n",
    "\n",
    "    print(\"Epoch {:03d}/{:03d} | Loss {:.4f} | Win/lose count {}/{} ({})\"\n",
    "          .format(e, epoch, loss, win, lose, win-lose))\n",
    "    agent.save()\n",
    "```"
   ]
  },
  {
   "cell_type": "markdown",
   "metadata": {
    "colab_type": "text",
    "id": "0gaVI6StIhZB"
   },
   "source": [
    "# The game, *eat cheese*"
   ]
  },
  {
   "cell_type": "markdown",
   "metadata": {
    "colab_type": "text",
    "id": "mEyf-s5IIhZC"
   },
   "source": [
    "A rat runs on an island and tries to eat as much as possible. The island is subdivided into $N\\times N$ cells, in which there are cheese (+0.5) and poisonous cells (-1). The rat has a visibility of 2 cells (thus it can see $5^2$ cells). The rat is given a time $T$ to accumulate as much food as possible. It can perform 4 actions: going up, down, left, right. \n",
    "\n",
    "The goal is to code an agent to solve this task that will learn by trial and error. We propose the following environment:"
   ]
  },
  {
   "cell_type": "code",
   "execution_count": 0,
   "metadata": {
    "colab": {},
    "colab_type": "code",
    "id": "n-ngEBIyIhZD"
   },
   "outputs": [],
   "source": [
    "class Environment(object):\n",
    "    def __init__(self, grid_size=10, max_time=500, temperature=0.1):\n",
    "        grid_size = grid_size+4\n",
    "        self.grid_size = grid_size\n",
    "        self.max_time = max_time\n",
    "        self.temperature = temperature\n",
    "\n",
    "        #board on which one plays\n",
    "        self.board = np.zeros((grid_size,grid_size))\n",
    "        self.position = np.zeros((grid_size,grid_size))\n",
    "\n",
    "        # coordinate of the cat\n",
    "        self.x = 0\n",
    "        self.y = 1\n",
    "\n",
    "        # self time\n",
    "        self.t = 0\n",
    "\n",
    "        self.scale=16\n",
    "\n",
    "        self.to_draw = np.zeros((max_time+2, grid_size*self.scale, grid_size*self.scale, 3))\n",
    "\n",
    "\n",
    "    def draw(self,e):\n",
    "        skvideo.io.vwrite(str(e) + '.mp4', self.to_draw)\n",
    "\n",
    "    def get_frame(self,t):\n",
    "        b = np.zeros((self.grid_size,self.grid_size,3))+128\n",
    "        b[self.board>0,0] = 256\n",
    "        b[self.board < 0, 2] = 256\n",
    "        b[self.x,self.y,:]=256\n",
    "        b[-2:,:,:]=0\n",
    "        b[:,-2:,:]=0\n",
    "        b[:2,:,:]=0\n",
    "        b[:,:2,:]=0\n",
    "        \n",
    "        b =  cv2.resize(b, None, fx=self.scale, fy=self.scale, interpolation=cv2.INTER_NEAREST)\n",
    "\n",
    "        self.to_draw[t,:,:,:]=b\n",
    "\n",
    "\n",
    "    def act(self, action):\n",
    "        \"\"\"This function returns the new state, reward and decides if the\n",
    "        game ends.\"\"\"\n",
    "\n",
    "        self.get_frame(int(self.t))\n",
    "\n",
    "        self.position = np.zeros((self.grid_size, self.grid_size))\n",
    "\n",
    "        self.position[0:2,:]= -1\n",
    "        self.position[:,0:2] = -1\n",
    "        self.position[-2:, :] = -1\n",
    "        self.position[-2:, :] = -1\n",
    "\n",
    "        self.position[self.x, self.y] = 1\n",
    "        if action == 0:\n",
    "            if self.x == self.grid_size-3:\n",
    "                self.x = self.x-1\n",
    "            else:\n",
    "                self.x = self.x + 1\n",
    "        elif action == 1:\n",
    "            if self.x == 2:\n",
    "                self.x = self.x+1\n",
    "            else:\n",
    "                self.x = self.x-1\n",
    "        elif action == 2:\n",
    "            if self.y == self.grid_size - 3:\n",
    "                self.y = self.y - 1\n",
    "            else:\n",
    "                self.y = self.y + 1\n",
    "        elif action == 3:\n",
    "            if self.y == 2:\n",
    "                self.y = self.y + 1\n",
    "            else:\n",
    "                self.y = self.y - 1\n",
    "        else:\n",
    "            RuntimeError('Error: action not recognized')\n",
    "\n",
    "        self.t = self.t + 1\n",
    "        reward = self.board[self.x, self.y]\n",
    "        self.board[self.x, self.y] = 0\n",
    "        game_over = self.t > self.max_time\n",
    "        state = np.concatenate((self.board.reshape(self.grid_size, self.grid_size,1),\n",
    "                        self.position.reshape(self.grid_size, self.grid_size,1)),axis=2)\n",
    "        state = state[self.x-2:self.x+3,self.y-2:self.y+3,:]\n",
    "\n",
    "        return state, reward, game_over\n",
    "\n",
    "    def reset(self):\n",
    "        \"\"\"This function resets the game and returns the initial state\"\"\"\n",
    "\n",
    "        self.x = np.random.randint(3, self.grid_size-3, size=1)[0]\n",
    "        self.y = np.random.randint(3, self.grid_size-3, size=1)[0]\n",
    "\n",
    "\n",
    "        bonus = 0.5*np.random.binomial(1,self.temperature,size=self.grid_size**2)\n",
    "        bonus = bonus.reshape(self.grid_size,self.grid_size)\n",
    "\n",
    "        malus = -1.0*np.random.binomial(1,self.temperature,size=self.grid_size**2)\n",
    "        malus = malus.reshape(self.grid_size, self.grid_size)\n",
    "\n",
    "        self.to_draw = np.zeros((self.max_time+2, self.grid_size*self.scale, self.grid_size*self.scale, 3))\n",
    "\n",
    "\n",
    "        malus[bonus>0]=0\n",
    "\n",
    "        self.board = bonus + malus\n",
    "\n",
    "        self.position = np.zeros((self.grid_size, self.grid_size))\n",
    "        self.position[0:2,:]= -1\n",
    "        self.position[:,0:2] = -1\n",
    "        self.position[-2:, :] = -1\n",
    "        self.position[-2:, :] = -1\n",
    "        self.board[self.x,self.y] = 0\n",
    "        self.t = 0\n",
    "\n",
    "        state = np.concatenate((\n",
    "                               self.board.reshape(self.grid_size, self.grid_size,1),\n",
    "                        self.position.reshape(self.grid_size, self.grid_size,1)),axis=2)\n",
    "\n",
    "        state = state[self.x - 2:self.x + 3, self.y - 2:self.y + 3, :]\n",
    "        return state"
   ]
  },
  {
   "cell_type": "markdown",
   "metadata": {
    "colab_type": "text",
    "id": "RQc1VZUyIhZF"
   },
   "source": [
    "The following elements are important because they correspond to the hyper parameters for this project:"
   ]
  },
  {
   "cell_type": "code",
   "execution_count": 0,
   "metadata": {
    "colab": {},
    "colab_type": "code",
    "id": "9uOsZWw3IhZG"
   },
   "outputs": [],
   "source": [
    "# parameters\n",
    "size = 13\n",
    "T = 200\n",
    "temperature = 0.3\n",
    "epochs_train = 50 # set small when debugging\n",
    "epochs_test = 20 # set small when debugging\n",
    "\n",
    "# display videos\n",
    "def display_videos(name):\n",
    "    video = io.open(name, 'r+b').read()\n",
    "    encoded = base64.b64encode(video)\n",
    "    return '''<video alt=\"test\" controls>\n",
    "                <source src=\"data:video/mp4;base64,{0}\" type=\"video/mp4\" />\n",
    "             </video>'''.format(encoded.decode('ascii'))"
   ]
  },
  {
   "cell_type": "markdown",
   "metadata": {
    "colab_type": "text",
    "id": "Kehp-WSBIhZK"
   },
   "source": [
    "__Question 2__ Explain the use of the arrays ```position``` and ```board```."
   ]
  },
  {
   "cell_type": "markdown",
   "metadata": {
    "colab_type": "text",
    "id": "-EclHi8DIhZM"
   },
   "source": [
    "The array board defines the spatial distribution of the rewards on the $N\\times N$ grid. It stores the reward of getting to a state (x,y) in the board. We set the reward to 0 after its collection (the state have already been visited). Red cells lead to positive rewards, blue cells negative rewards and a white cell represents the rat.\n",
    "\n",
    "The array position is a static array that defines the borders (forbidden states) of the grid by a value of -1, the allowed states by 0 and the position of the agent that is defined by a value of 1."
   ]
  },
  {
   "cell_type": "markdown",
   "metadata": {
    "colab_type": "text",
    "id": "UFCpEdSfIhZN"
   },
   "source": [
    "## Random Agent"
   ]
  },
  {
   "cell_type": "markdown",
   "metadata": {
    "colab_type": "text",
    "id": "kYU5gfh5IhZO"
   },
   "source": [
    "***\n",
    "__Question 3__ Implement a random Agent (only ```learned_act``` needs to be implemented):"
   ]
  },
  {
   "cell_type": "code",
   "execution_count": 0,
   "metadata": {
    "colab": {},
    "colab_type": "code",
    "id": "A4hW1fMQIhZP"
   },
   "outputs": [],
   "source": [
    "class RandomAgent(Agent):\n",
    "    def __init__(self):\n",
    "        super(RandomAgent, self).__init__()\n",
    "        pass\n",
    "\n",
    "    def learned_act(self, s):\n",
    "        return np.random.randint(0, self.n_action, size=1)[0]"
   ]
  },
  {
   "cell_type": "markdown",
   "metadata": {
    "colab_type": "text",
    "id": "QFMfEzbhIhZR"
   },
   "source": [
    "***\n",
    "***\n",
    "__Question 4__ Visualize the game moves. You need to fill in the following function for the evaluation:"
   ]
  },
  {
   "cell_type": "code",
   "execution_count": 0,
   "metadata": {
    "colab": {},
    "colab_type": "code",
    "id": "plGBTOF_IhZS"
   },
   "outputs": [],
   "source": [
    "def test(agent, env, epochs, prefix=''):\n",
    "    # Number of won games\n",
    "    score = 0\n",
    "        \n",
    "    for e in range(epochs):\n",
    "        # At each epoch, we restart to a fresh game and get the initial state\n",
    "        state = env.reset()\n",
    "        # This assumes that the games will end\n",
    "        game_over = False\n",
    "\n",
    "        win = 0\n",
    "        lose = 0\n",
    "\n",
    "        while not game_over:\n",
    "            # The agent performs an action\n",
    "            action = agent.act(state)\n",
    "\n",
    "            # Apply an action to the environment, get the next state, the reward\n",
    "            # and if the games end\n",
    "            prev_state = state\n",
    "            state, reward, game_over = env.act(action)\n",
    "\n",
    "            # Update the counters\n",
    "            if reward > 0:\n",
    "                win = win + reward\n",
    "            if reward < 0:\n",
    "                lose = lose -reward\n",
    "\n",
    "        \n",
    "        # Save as a mp4\n",
    "        if e % 10 == 0:\n",
    "            env.draw(prefix+str(e))\n",
    "\n",
    "        # Update stats\n",
    "        score = score + win - lose\n",
    "\n",
    "        print(\"Win/lose count {}/{}. Average score ({})\"\n",
    "              .format(win, lose, score/(1+e)))\n",
    "    print('Final score: '+str(score/epochs))"
   ]
  },
  {
   "cell_type": "code",
   "execution_count": 0,
   "metadata": {
    "colab": {
     "base_uri": "https://localhost:8080/",
     "height": 646
    },
    "colab_type": "code",
    "executionInfo": {
     "elapsed": 50553,
     "status": "ok",
     "timestamp": 1580073632937,
     "user": {
      "displayName": "Christophe V",
      "photoUrl": "",
      "userId": "02288011239955927292"
     },
     "user_tz": -60
    },
    "id": "aXcfClqwIhZV",
    "outputId": "3be2676e-033f-41ee-d1d2-25c649badf91"
   },
   "outputs": [
    {
     "name": "stdout",
     "output_type": "stream",
     "text": [
      "Win/lose count 6.0/13.0. Average score (-7.0)\n",
      "Win/lose count 8.0/9.0. Average score (-4.0)\n",
      "Win/lose count 16.5/17.0. Average score (-2.8333333333333335)\n",
      "Win/lose count 4.5/14.0. Average score (-4.5)\n",
      "Win/lose count 7.5/15.0. Average score (-5.1)\n",
      "Win/lose count 12.5/12.0. Average score (-4.166666666666667)\n",
      "Win/lose count 13.0/15.0. Average score (-3.857142857142857)\n",
      "Win/lose count 8.5/12.0. Average score (-3.8125)\n",
      "Win/lose count 10.5/12.0. Average score (-3.5555555555555554)\n",
      "Win/lose count 9.0/8.0. Average score (-3.1)\n",
      "Win/lose count 10.5/15.0. Average score (-3.227272727272727)\n",
      "Win/lose count 8.0/17.0. Average score (-3.7083333333333335)\n",
      "Win/lose count 9.0/18.0. Average score (-4.115384615384615)\n",
      "Win/lose count 5.5/12.0. Average score (-4.285714285714286)\n",
      "Win/lose count 9.5/12.0. Average score (-4.166666666666667)\n",
      "Win/lose count 10.5/19.0. Average score (-4.4375)\n",
      "Win/lose count 11.5/14.0. Average score (-4.323529411764706)\n",
      "Win/lose count 5.5/9.0. Average score (-4.277777777777778)\n",
      "Win/lose count 8.5/8.0. Average score (-4.026315789473684)\n",
      "Win/lose count 10.0/11.0. Average score (-3.875)\n",
      "Final score: -3.875\n"
     ]
    },
    {
     "data": {
      "text/html": [
       "<video alt=\"test\" controls>\n",
       "                <source src=\"data:video/mp4;base64,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\" type=\"video/mp4\" />\n",
       "             </video>"
      ],
      "text/plain": [
       "<IPython.core.display.HTML object>"
      ]
     },
     "execution_count": 11,
     "metadata": {
      "tags": []
     },
     "output_type": "execute_result"
    }
   ],
   "source": [
    "# Initialize the game\n",
    "env = Environment(grid_size=size, max_time=T,temperature=temperature)\n",
    "\n",
    "# Initialize the agent!\n",
    "agent = RandomAgent()\n",
    "\n",
    "test(agent, env, epochs_test, prefix='random')\n",
    "HTML(display_videos('random0.mp4'))"
   ]
  },
  {
   "cell_type": "markdown",
   "metadata": {
    "colab_type": "text",
    "id": "xQIBQRrEIhZY"
   },
   "source": [
    "***\n",
    "## DQN"
   ]
  },
  {
   "cell_type": "markdown",
   "metadata": {
    "colab_type": "text",
    "id": "Wof_qAWRIhZY"
   },
   "source": [
    "Let us assume here that $T=\\infty$.\n",
    "\n",
    "***\n",
    "__Question 5__ Let $\\pi$ be a policy, show that:\n",
    "\n",
    "\\begin{equation*}\n",
    "Q^{\\pi}(s,a)=E_{(s',a')\\sim p(.|s,a)}[r(s,a)+\\gamma Q^{\\pi}(s',a')]\n",
    "\\end{equation*}\n",
    "\n",
    "Then, show that for the optimal policy $\\pi^*$ (we assume its existence), the following holds: \n",
    "\n",
    "\\begin{equation*}\n",
    "Q^{*}(s,a)=E_{s'\\sim \\pi^*(.|s,a)}[r(s,a)+\\gamma\\max_{a'}Q^{*}(s',a')].\n",
    "\\end{equation*}\n",
    "Finally, deduce that a plausible objective is:\n",
    "\n",
    "\\begin{equation*}\n",
    "\\mathcal{L}(\\theta)=E_{s' \\sim \\pi^*(.|s,a)}\\Vert r+\\gamma\\max\\max_{a'}Q(s',a',\\theta)-Q(s,a,\\theta)\\Vert^{2}.\n",
    "\\end{equation*}\n",
    "\n",
    "\n"
   ]
  },
  {
   "cell_type": "markdown",
   "metadata": {
    "colab_type": "text",
    "id": "lRb5Mf88IhZZ"
   },
   "source": [
    "\\begin{equation*}\n",
    "R(\\pi)=\\sum_{t\\leq T}E_{p^{\\pi}}[\\gamma^t r(s_{t},a_{t})] \\> ,\n",
    "\\end{equation*}\n",
    "\n",
    "where: \n",
    "\\begin{equation*}p^{\\pi}(a_{0},a_{1},s_{1},...,a_{T},s_{T})=p(a_{0})\\prod_{t=1}^{T}\\pi(a_{t}|s_{t})p(s_{t+1}|s_{t},a_{t}) \\> .\n",
    "\\end{equation*}\n",
    "\n",
    "We note the $Q$-function:\n",
    "\n",
    "\\begin{align*}Q^\\pi(s,a)= E_{p^{\\pi}}\\left[r(s_0,a_0)|s_{0}=s,a_{0}=a\\right] + E_{p^{\\pi}}\\left[\\sum_{1 \\leq t\\leq T}\\gamma^{t}r(s_{t},a_{t})|s_{0}=s,a_{0}=a\\right] \\> .\n",
    "\\end{align*}\n",
    "\n",
    "Here  $(s_0, a_0)$ does not depend on the policy but only on $p$, hence:\n",
    "\n",
    "\\begin{align*}Q^\\pi(s,a) &= E \\left[r(s_0,a_0)\\right] + \\gamma E_{p^{\\pi}}\\left[\\sum_{1 \\leq t\\leq T}\\gamma^{t-1}r(s_{t},a_{t})|s_{0}=s,a_{0}=a\\right] \\> \\\\\n",
    "& = E \\left[r(s_0,a_0)\\right] + \\gamma \\sum_{s',a'} p((s', a')|s_{0}=s,a_{0}=a) E_{p^{\\pi}}\\left[\\sum_{1 \\leq t\\leq T} \\gamma^{t-1}r(s_{t},a_{t})|s_{1}=s', a_{1} = a'\\right] .\\\\\n",
    "& = E \\left[r(s_0,a_0)\\right] + \\gamma \\sum_{s', a'} p((s', a')|s_{0}=s,a_{0}=a) E_{p^{\\pi}}\\left[\\sum_{t'\\leq T} \\gamma^{t'}r(s_{t'},a_{t'})|s_{1-1}=s', a_{1-1}=a'\\right] \\\\\n",
    "& = E \\left[r(s_0,a_0)\\right] + \\gamma E_{(s',a')\\sim p(.|s,a)}\\left[E_{p^{\\pi}}\\left[\\sum_{t'\\leq T} \\gamma^{t'}r(s_{t'},a_{t'})|s_{1-1}=s', a_{1-1}=a'\\right] \\right] \\\\\n",
    "Q^{\\pi}(s,a) &= E_{(s',a')\\sim p(.|s,a)}[r(s,a)+\\gamma Q^{\\pi}(s',a')]\n",
    "\\end{align*}\n",
    "\n",
    "$$\\boxed{\n",
    "\\begin{equation*}\n",
    "Q^{\\pi}(s,a) = E_{(s',a')\\sim p(.|s,a)}[r(s,a)+\\gamma Q^{\\pi}(s',a')] \\> .\n",
    "\\end{equation*}\n",
    "}$$\n",
    "\n",
    "because $(s,a)$ does not depend on the next state $(s',a')$.\n",
    "\n",
    "\\begin{equation*}\n",
    "Q^*(s,a)=\\max_{\\pi}Q^\\pi(s,a) \\> .\n",
    "\\end{equation*}\n",
    "\n",
    "From the definition above one can notice that $p((s',a')|(s,a)) = \\pi(a'|s') p(s'|(a,s))$\n",
    "\n",
    "Maimizing over $\\pi$ means choosing for a given state $s'$ the best action $a'$.\n",
    "So, given its existence:\n",
    "\n",
    "\\begin{equation*}\n",
    "\\pi^*(s'|(s,a))= \\argmax_{\\pi} E_{(s',a')\\sim p(.|s,a)}[r(s,a)+\\gamma \\max_{a'} Q^{\\pi}(s',a')] \\> .\n",
    "\\end{equation*}\n",
    "\n",
    "So, under $\\pi^*$, the next state $s'$ is drawn with respect to $p(.,(s,a))$. For sake of consistency with the notations, \n",
    "\n",
    "$$\\boxed{\n",
    "\\begin{align*}\n",
    "Q^*(s,a) &= \\max_\\pi E_{(s',a')\\sim p(.|s,a)}[r(s,a)+\\gamma Q^{\\pi}(s',a')] \\\\\n",
    "Q^{*}(s,a) &= E_{s' \\sim \\pi^*(.|s,a)}[\\max_{a'}r(s,a) + \\gamma \\max_{a'} Q^{*}(s',a')]\n",
    "\\end{align*}\n",
    "}$$\n",
    "\n",
    "$Q^*$ is the solution of $F(Q) = 0$ with \n",
    "\n",
    "\\begin{equation*}\n",
    "F(Q)= E_{s' \\sim \\pi^*(.|s,a)}[\\max_{a'}r(s,a) + \\gamma \\max_{a'} Q(s',a') - Q(s,a)] \\> .\n",
    "\\end{equation*}\n",
    "\n",
    "So a plausible loss that aims at minimizing the residuals of that equation can be:\n",
    "\n",
    "$$\\boxed{\n",
    "\\begin{equation*}\n",
    "\\mathcal{L}(\\theta)=E_{s' \\sim \\pi^*(.|s,a)}\\Vert r+\\gamma \\max_{a'}Q(s',a',\\theta)-Q(s,a,\\theta)\\Vert^{2}.\n",
    "\\end{equation*}\n",
    "}$$\n",
    "\n",
    "with $\\theta$ the parameters of the neural network.\n",
    "\n",
    "\n"
   ]
  },
  {
   "cell_type": "markdown",
   "metadata": {
    "colab_type": "text",
    "id": "H54-w845IhZb"
   },
   "source": [
    "***\n",
    "The DQN-learning algorithm relies on these derivations to train the parameters $\\theta$ of a Deep Neural Network:\n",
    "\n",
    "1. At the state $s_t$, select the action $a_t$ with best reward using $Q_t$ and store the results;\n",
    "\n",
    "2. Obtain the new state $s_{t+1}$ from the environment $p$;\n",
    "\n",
    "3. Store $(s_t,a_t,s_{t+1})$;\n",
    "\n",
    "4. Obtain $Q_{t+1}$ by minimizing  $\\mathcal{L}$ from a recovered batch from the previously stored results.\n",
    "\n",
    "***\n",
    "__Question 6__ Implement the class ```Memory``` that stores moves (in a replay buffer) via ```remember``` and provides a ```random_access``` to these. Specify a maximum memory size to avoid side effects. You can for example use a ```list()``` and set by default ```max_memory=100```."
   ]
  },
  {
   "cell_type": "code",
   "execution_count": 0,
   "metadata": {
    "colab": {},
    "colab_type": "code",
    "id": "STISNHm9IhZc"
   },
   "outputs": [],
   "source": [
    "class Memory(object):\n",
    "    def __init__(self, max_memory=100):\n",
    "        self.max_memory = max_memory\n",
    "        self.memory = list()\n",
    "\n",
    "    def remember(self, m):\n",
    "        self.memory.append(m)\n",
    "\n",
    "    def random_access(self):\n",
    "        return self.memory[np.random.randint(len(self.memory))]"
   ]
  },
  {
   "cell_type": "markdown",
   "metadata": {
    "colab_type": "text",
    "id": "7mPl2lDCIhZf"
   },
   "source": [
    "***\n",
    "The pipeline we will use for training is given below:"
   ]
  },
  {
   "cell_type": "code",
   "execution_count": 0,
   "metadata": {
    "colab": {},
    "colab_type": "code",
    "id": "dSkdmXGKIhZg"
   },
   "outputs": [],
   "source": [
    "def train(agent,env,epoch,prefix=''):\n",
    "    # Number of won games\n",
    "    score = 0\n",
    "    loss = 0\n",
    "\n",
    "    for e in range(epoch):\n",
    "        # At each epoch, we restart to a fresh game and get the initial state\n",
    "        state = env.reset()\n",
    "        # This assumes that the games will terminate\n",
    "        game_over = False\n",
    "\n",
    "        win = 0\n",
    "        lose = 0\n",
    "\n",
    "        while not game_over:\n",
    "            # The agent performs an action\n",
    "            action = agent.act(state)\n",
    "\n",
    "            # Apply an action to the environment, get the next state, the reward\n",
    "            # and if the games end\n",
    "            prev_state = state\n",
    "            state, reward, game_over = env.act(action)\n",
    "\n",
    "            # Update the counters\n",
    "            if reward > 0:\n",
    "                win = win + reward\n",
    "            if reward < 0:\n",
    "                lose = lose -reward\n",
    "\n",
    "            # Apply the reinforcement strategy\n",
    "            loss = agent.reinforce(prev_state, state,  action, reward, game_over)\n",
    "\n",
    "        # Save as a mp4\n",
    "        if e % 10 == 0:\n",
    "            env.draw(prefix+str(e))\n",
    "\n",
    "        # Update stats\n",
    "        score += win-lose\n",
    "\n",
    "        print(\"Epoch {:03d}/{:03d} | Loss {:.4f} | Win/lose count {}/{} ({})\"\n",
    "              .format(e, epoch, loss, win, lose, win-lose))\n",
    "        agent.save(name_weights=prefix+'model.h5',name_model=prefix+'model.json')"
   ]
  },
  {
   "cell_type": "markdown",
   "metadata": {
    "colab_type": "text",
    "id": "zP0h5Vy4IhZj"
   },
   "source": [
    "***\n",
    "__Question 7__ Implement the DQN training algorithm using a cascade of fully connected layers. You can use different learning rate, batch size or memory size parameters. In particular, the loss might oscillate while the player will start to win the games. You have to find a good criterium."
   ]
  },
  {
   "cell_type": "code",
   "execution_count": 0,
   "metadata": {
    "colab": {},
    "colab_type": "code",
    "id": "ik28ghQtIhZj"
   },
   "outputs": [],
   "source": [
    "class DQN(Agent):\n",
    "    def __init__(self, grid_size,  epsilon = 0.1, memory_size=100, batch_size = 16, n_state=2):\n",
    "        super(DQN, self).__init__(epsilon = epsilon)\n",
    "\n",
    "        # Discount for Q learning\n",
    "        self.discount = 0.99\n",
    "        \n",
    "        self.grid_size = grid_size\n",
    "        \n",
    "        # number of state\n",
    "        self.n_state = n_state\n",
    "\n",
    "        # Memory\n",
    "        self.memory = Memory(memory_size)\n",
    "        \n",
    "        # Batch size when learning\n",
    "        self.batch_size = batch_size\n",
    "\n",
    "    def learned_act(self, s):\n",
    "        return np.argmax(self.model.predict(s[None]))\n",
    "\n",
    "    def reinforce(self, s_, n_s_, a_, r_, game_over_):\n",
    "        # Two steps: first memorize the states, second learn from the pool\n",
    "\n",
    "        self.memory.remember([s_, n_s_, a_, r_, game_over_])\n",
    "        \n",
    "        input_states = np.zeros((self.batch_size, 5, 5, self.n_state))\n",
    "        target_q = np.zeros((self.batch_size, 4))\n",
    "        \n",
    "        for i in range(self.batch_size):\n",
    "            #take a random batch from our buffer\n",
    "            s_, n_s_, a_, r_, game_over_ = self.memory.random_access()\n",
    "            #store the current state and generate its state-action function\n",
    "            input_states[i] = s_\n",
    "            target_q[i] = self.model.predict(s_[None])\n",
    "            if game_over_:\n",
    "               target_q[i, a_] = r_\n",
    "            else:\n",
    "                ns_q = self.model.predict(n_s_[None])\n",
    "                target_q[i, a_] = r_ + self.discount * ns_q.max(1)\n",
    "        ######## FILL IN\n",
    "        # HINT: Clip the target to avoid exploding gradients.. -- clipping is a bit tighter\n",
    "        target_q = np.clip(target_q, -3, 3)\n",
    "\n",
    "        l = self.model.train_on_batch(input_states, target_q)\n",
    "\n",
    "        return l\n",
    "\n",
    "    def save(self,name_weights='model.h5',name_model='model.json'):\n",
    "        self.model.save_weights(name_weights, overwrite=True)\n",
    "        with open(name_model, \"w\") as outfile:\n",
    "            json.dump(self.model.to_json(), outfile)\n",
    "            \n",
    "    def load(self,name_weights='model.h5',name_model='model.json'):\n",
    "        with open(name_model, \"r\") as jfile:\n",
    "            model = model_from_json(json.load(jfile))\n",
    "        model.load_weights(name_weights)\n",
    "        model.compile(\"sgd\", \"mse\")\n",
    "        self.model = model\n",
    "\n",
    "            \n",
    "class DQN_FC(DQN):\n",
    "    def __init__(self, *args, lr=0.1,**kwargs):\n",
    "        super(DQN_FC, self).__init__( *args,**kwargs)\n",
    "        \n",
    "        # NN Model\n",
    "        model = Sequential()\n",
    "        model.add(Flatten(input_shape=(5, 5, self.n_state, )))\n",
    "        model.add(Dense(units=32, activation= 'relu'))\n",
    "        model.add(Dense(units=4))\n",
    "        model.compile(sgd(lr=lr, decay=1e-4, momentum=0.0), \"mse\")\n",
    "        self.model = model\n",
    "        "
   ]
  },
  {
   "cell_type": "code",
   "execution_count": 0,
   "metadata": {
    "colab": {
     "base_uri": "https://localhost:8080/",
     "height": 1000
    },
    "colab_type": "code",
    "executionInfo": {
     "elapsed": 488987,
     "status": "ok",
     "timestamp": 1580074071421,
     "user": {
      "displayName": "Christophe V",
      "photoUrl": "",
      "userId": "02288011239955927292"
     },
     "user_tz": -60
    },
    "id": "dOC8--6UIhZo",
    "outputId": "ad8811a3-5ed0-4b09-8180-e387c426b0ba"
   },
   "outputs": [
    {
     "name": "stdout",
     "output_type": "stream",
     "text": [
      "WARNING:tensorflow:From /usr/local/lib/python3.6/dist-packages/keras/backend/tensorflow_backend.py:66: The name tf.get_default_graph is deprecated. Please use tf.compat.v1.get_default_graph instead.\n",
      "\n",
      "WARNING:tensorflow:From /usr/local/lib/python3.6/dist-packages/keras/backend/tensorflow_backend.py:541: The name tf.placeholder is deprecated. Please use tf.compat.v1.placeholder instead.\n",
      "\n",
      "WARNING:tensorflow:From /usr/local/lib/python3.6/dist-packages/keras/backend/tensorflow_backend.py:4432: The name tf.random_uniform is deprecated. Please use tf.random.uniform instead.\n",
      "\n",
      "WARNING:tensorflow:From /usr/local/lib/python3.6/dist-packages/keras/optimizers.py:793: The name tf.train.Optimizer is deprecated. Please use tf.compat.v1.train.Optimizer instead.\n",
      "\n",
      "WARNING:tensorflow:From /usr/local/lib/python3.6/dist-packages/keras/backend/tensorflow_backend.py:3005: The name tf.Session is deprecated. Please use tf.compat.v1.Session instead.\n",
      "\n",
      "WARNING:tensorflow:From /usr/local/lib/python3.6/dist-packages/keras/backend/tensorflow_backend.py:190: The name tf.get_default_session is deprecated. Please use tf.compat.v1.get_default_session instead.\n",
      "\n",
      "WARNING:tensorflow:From /usr/local/lib/python3.6/dist-packages/keras/backend/tensorflow_backend.py:197: The name tf.ConfigProto is deprecated. Please use tf.compat.v1.ConfigProto instead.\n",
      "\n",
      "WARNING:tensorflow:From /usr/local/lib/python3.6/dist-packages/keras/backend/tensorflow_backend.py:207: The name tf.global_variables is deprecated. Please use tf.compat.v1.global_variables instead.\n",
      "\n",
      "WARNING:tensorflow:From /usr/local/lib/python3.6/dist-packages/keras/backend/tensorflow_backend.py:216: The name tf.is_variable_initialized is deprecated. Please use tf.compat.v1.is_variable_initialized instead.\n",
      "\n",
      "WARNING:tensorflow:From /usr/local/lib/python3.6/dist-packages/keras/backend/tensorflow_backend.py:223: The name tf.variables_initializer is deprecated. Please use tf.compat.v1.variables_initializer instead.\n",
      "\n",
      "WARNING:tensorflow:From /usr/local/lib/python3.6/dist-packages/keras/backend/tensorflow_backend.py:1033: The name tf.assign_add is deprecated. Please use tf.compat.v1.assign_add instead.\n",
      "\n",
      "WARNING:tensorflow:From /usr/local/lib/python3.6/dist-packages/keras/backend/tensorflow_backend.py:1020: The name tf.assign is deprecated. Please use tf.compat.v1.assign instead.\n",
      "\n",
      "Epoch 000/050 | Loss 0.0058 | Win/lose count 2.5/5.0 (-2.5)\n",
      "Epoch 001/050 | Loss 0.0216 | Win/lose count 4.0/5.0 (-1.0)\n",
      "Epoch 002/050 | Loss 0.0154 | Win/lose count 2.5/4.0 (-1.5)\n",
      "Epoch 003/050 | Loss 0.0170 | Win/lose count 2.0/6.0 (-4.0)\n",
      "Epoch 004/050 | Loss 0.0089 | Win/lose count 4.0/3.0 (1.0)\n",
      "Epoch 005/050 | Loss 0.0171 | Win/lose count 2.5/6.0 (-3.5)\n",
      "Epoch 006/050 | Loss 0.0106 | Win/lose count 1.0/3.0 (-2.0)\n",
      "Epoch 007/050 | Loss 0.0585 | Win/lose count 1.5/3.0 (-1.5)\n",
      "Epoch 008/050 | Loss 0.0046 | Win/lose count 2.5/3.0 (-0.5)\n",
      "Epoch 009/050 | Loss 0.0615 | Win/lose count 3.5/1.0 (2.5)\n",
      "Epoch 010/050 | Loss 0.0082 | Win/lose count 4.5/2.0 (2.5)\n",
      "Epoch 011/050 | Loss 0.0125 | Win/lose count 1.0/1.0 (0.0)\n",
      "Epoch 012/050 | Loss 0.0130 | Win/lose count 2.0/3.0 (-1.0)\n",
      "Epoch 013/050 | Loss 0.0020 | Win/lose count 0.5/7.0 (-6.5)\n",
      "Epoch 014/050 | Loss 0.0024 | Win/lose count 3.5/0 (3.5)\n",
      "Epoch 015/050 | Loss 0.0086 | Win/lose count 4.0/4.0 (0.0)\n",
      "Epoch 016/050 | Loss 0.0034 | Win/lose count 3.0/5.0 (-2.0)\n",
      "Epoch 017/050 | Loss 0.0047 | Win/lose count 6.5/4.0 (2.5)\n",
      "Epoch 018/050 | Loss 0.0059 | Win/lose count 3.0/3.0 (0.0)\n",
      "Epoch 019/050 | Loss 0.0103 | Win/lose count 3.0/3.0 (0.0)\n",
      "Epoch 020/050 | Loss 0.0017 | Win/lose count 6.5/3.0 (3.5)\n",
      "Epoch 021/050 | Loss 0.0022 | Win/lose count 4.0/2.0 (2.0)\n",
      "Epoch 022/050 | Loss 0.0031 | Win/lose count 2.5/2.0 (0.5)\n",
      "Epoch 023/050 | Loss 0.0039 | Win/lose count 4.0/3.0 (1.0)\n",
      "Epoch 024/050 | Loss 0.0094 | Win/lose count 6.0/2.0 (4.0)\n",
      "Epoch 025/050 | Loss 0.0030 | Win/lose count 3.0/5.0 (-2.0)\n",
      "Epoch 026/050 | Loss 0.0061 | Win/lose count 4.0/6.0 (-2.0)\n",
      "Epoch 027/050 | Loss 0.0079 | Win/lose count 2.5/1.0 (1.5)\n",
      "Epoch 028/050 | Loss 0.0103 | Win/lose count 5.0/2.0 (3.0)\n",
      "Epoch 029/050 | Loss 0.0078 | Win/lose count 4.5/1.0 (3.5)\n",
      "Epoch 030/050 | Loss 0.0060 | Win/lose count 4.5/3.0 (1.5)\n",
      "Epoch 031/050 | Loss 0.0054 | Win/lose count 5.0/4.0 (1.0)\n",
      "Epoch 032/050 | Loss 0.0617 | Win/lose count 4.5/3.0 (1.5)\n",
      "Epoch 033/050 | Loss 0.0398 | Win/lose count 5.5/4.0 (1.5)\n",
      "Epoch 034/050 | Loss 0.0054 | Win/lose count 2.0/2.0 (0.0)\n",
      "Epoch 035/050 | Loss 0.0059 | Win/lose count 5.0/4.0 (1.0)\n",
      "Epoch 036/050 | Loss 0.0095 | Win/lose count 4.0/1.0 (3.0)\n",
      "Epoch 037/050 | Loss 0.0031 | Win/lose count 1.0/1.0 (0.0)\n",
      "Epoch 038/050 | Loss 0.0047 | Win/lose count 8.0/5.0 (3.0)\n",
      "Epoch 039/050 | Loss 0.0025 | Win/lose count 2.0/3.0 (-1.0)\n",
      "Epoch 040/050 | Loss 0.0069 | Win/lose count 7.0/1.0 (6.0)\n",
      "Epoch 041/050 | Loss 0.0029 | Win/lose count 5.5/2.0 (3.5)\n",
      "Epoch 042/050 | Loss 0.0032 | Win/lose count 3.0/3.0 (0.0)\n",
      "Epoch 043/050 | Loss 0.2009 | Win/lose count 5.0/5.0 (0.0)\n",
      "Epoch 044/050 | Loss 0.0514 | Win/lose count 3.0/2.0 (1.0)\n",
      "Epoch 045/050 | Loss 0.0018 | Win/lose count 1.0/2.0 (-1.0)\n",
      "Epoch 046/050 | Loss 0.0036 | Win/lose count 9.0/4.0 (5.0)\n",
      "Epoch 047/050 | Loss 0.0056 | Win/lose count 8.5/5.0 (3.5)\n",
      "Epoch 048/050 | Loss 0.0036 | Win/lose count 6.5/2.0 (4.5)\n",
      "Epoch 049/050 | Loss 0.0038 | Win/lose count 8.5/4.0 (4.5)\n"
     ]
    },
    {
     "data": {
      "text/html": [
       "<video alt=\"test\" controls>\n",
       "                <source src=\"data:video/mp4;base64,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\" type=\"video/mp4\" />\n",
       "             </video>"
      ],
      "text/plain": [
       "<IPython.core.display.HTML object>"
      ]
     },
     "execution_count": 15,
     "metadata": {
      "tags": []
     },
     "output_type": "execute_result"
    }
   ],
   "source": [
    "env = Environment(grid_size=size, max_time=T, temperature=0.3)\n",
    "agent = DQN_FC(size, lr=.1, epsilon = 0.1, memory_size=2000, batch_size = 32)\n",
    "train(agent, env, epochs_train, prefix='fc_train')\n",
    "HTML(display_videos('fc_train0.mp4'))"
   ]
  },
  {
   "cell_type": "markdown",
   "metadata": {
    "colab_type": "text",
    "id": "BJ-JHt9lIhZq"
   },
   "source": [
    "***\n",
    "***\n",
    "__Question 8__ Implement the DQN training algorithm using a CNN (for example, 2 convolutional layers and one final fully connected layer)."
   ]
  },
  {
   "cell_type": "code",
   "execution_count": 0,
   "metadata": {
    "colab": {},
    "colab_type": "code",
    "id": "eFuCXwX2IhZr"
   },
   "outputs": [],
   "source": [
    "class DQN_CNN(DQN):\n",
    "    def __init__(self, *args,lr=0.1,**kwargs):\n",
    "        super(DQN_CNN, self).__init__(*args,**kwargs)\n",
    "        \n",
    "        ###### FILL IN\n",
    "        model = Sequential()\n",
    "        model.add(Conv2D(64, kernel_size=3, activation='relu', input_shape=(5, 5, self.n_state,)))\n",
    "        model.add(Conv2D(32, kernel_size=3, activation='relu'))\n",
    "        model.add(Flatten())\n",
    "        model.add(Dense(units = 4))\n",
    "        model.compile(sgd(lr=lr, decay=1e-4, momentum=0.0), \"mse\")\n",
    "        self.model = model"
   ]
  },
  {
   "cell_type": "code",
   "execution_count": 0,
   "metadata": {
    "colab": {
     "base_uri": "https://localhost:8080/",
     "height": 1000
    },
    "colab_type": "code",
    "executionInfo": {
     "elapsed": 959322,
     "status": "ok",
     "timestamp": 1580074541787,
     "user": {
      "displayName": "Christophe V",
      "photoUrl": "",
      "userId": "02288011239955927292"
     },
     "user_tz": -60
    },
    "id": "DuQya_GHIhZu",
    "outputId": "c4cc03af-917b-4681-cd5b-2d129a97e367"
   },
   "outputs": [
    {
     "name": "stdout",
     "output_type": "stream",
     "text": [
      "Epoch 000/050 | Loss 0.0006 | Win/lose count 7.5/7.0 (0.5)\n",
      "Epoch 001/050 | Loss 0.0034 | Win/lose count 6.5/6.0 (0.5)\n",
      "Epoch 002/050 | Loss 0.0072 | Win/lose count 8.5/1.0 (7.5)\n",
      "Epoch 003/050 | Loss 0.0600 | Win/lose count 7.0/2.0 (5.0)\n",
      "Epoch 004/050 | Loss 0.0957 | Win/lose count 4.0/4.0 (0.0)\n",
      "Epoch 005/050 | Loss 0.0017 | Win/lose count 6.0/5.0 (1.0)\n",
      "Epoch 006/050 | Loss 0.0034 | Win/lose count 3.5/2.0 (1.5)\n",
      "Epoch 007/050 | Loss 0.0020 | Win/lose count 6.5/2.0 (4.5)\n",
      "Epoch 008/050 | Loss 0.0028 | Win/lose count 6.5/2.0 (4.5)\n",
      "Epoch 009/050 | Loss 0.0025 | Win/lose count 5.0/3.0 (2.0)\n",
      "Epoch 010/050 | Loss 0.0039 | Win/lose count 3.5/2.0 (1.5)\n",
      "Epoch 011/050 | Loss 0.0021 | Win/lose count 4.0/0 (4.0)\n",
      "Epoch 012/050 | Loss 0.0027 | Win/lose count 5.0/6.0 (-1.0)\n",
      "Epoch 013/050 | Loss 0.0048 | Win/lose count 1.0/2.0 (-1.0)\n",
      "Epoch 014/050 | Loss 0.0023 | Win/lose count 13.0/3.0 (10.0)\n",
      "Epoch 015/050 | Loss 0.0485 | Win/lose count 2.0/2.0 (0.0)\n",
      "Epoch 016/050 | Loss 0.0028 | Win/lose count 5.0/3.0 (2.0)\n",
      "Epoch 017/050 | Loss 0.0024 | Win/lose count 5.0/5.0 (0.0)\n",
      "Epoch 018/050 | Loss 0.0074 | Win/lose count 2.5/4.0 (-1.5)\n",
      "Epoch 019/050 | Loss 0.0019 | Win/lose count 7.5/3.0 (4.5)\n",
      "Epoch 020/050 | Loss 0.0013 | Win/lose count 7.5/3.0 (4.5)\n",
      "Epoch 021/050 | Loss 0.0048 | Win/lose count 5.5/2.0 (3.5)\n",
      "Epoch 022/050 | Loss 0.0013 | Win/lose count 11.5/8.0 (3.5)\n",
      "Epoch 023/050 | Loss 0.0020 | Win/lose count 12.5/3.0 (9.5)\n",
      "Epoch 024/050 | Loss 0.0025 | Win/lose count 9.5/4.0 (5.5)\n",
      "Epoch 025/050 | Loss 0.0023 | Win/lose count 7.5/5.0 (2.5)\n",
      "Epoch 026/050 | Loss 0.0020 | Win/lose count 5.5/3.0 (2.5)\n",
      "Epoch 027/050 | Loss 0.0016 | Win/lose count 4.5/5.0 (-0.5)\n",
      "Epoch 028/050 | Loss 0.0042 | Win/lose count 6.5/3.0 (3.5)\n",
      "Epoch 029/050 | Loss 0.0016 | Win/lose count 6.5/2.0 (4.5)\n",
      "Epoch 030/050 | Loss 0.0019 | Win/lose count 11.5/3.0 (8.5)\n",
      "Epoch 031/050 | Loss 0.0018 | Win/lose count 8.5/4.0 (4.5)\n",
      "Epoch 032/050 | Loss 0.0023 | Win/lose count 5.0/1.0 (4.0)\n",
      "Epoch 033/050 | Loss 0.0019 | Win/lose count 7.5/3.0 (4.5)\n",
      "Epoch 034/050 | Loss 0.0011 | Win/lose count 6.5/3.0 (3.5)\n",
      "Epoch 035/050 | Loss 0.0030 | Win/lose count 5.5/2.0 (3.5)\n",
      "Epoch 036/050 | Loss 0.0011 | Win/lose count 6.0/8.0 (-2.0)\n",
      "Epoch 037/050 | Loss 0.0036 | Win/lose count 12.0/1.0 (11.0)\n",
      "Epoch 038/050 | Loss 0.0020 | Win/lose count 16.5/2.0 (14.5)\n",
      "Epoch 039/050 | Loss 0.0054 | Win/lose count 6.5/1.0 (5.5)\n",
      "Epoch 040/050 | Loss 0.0034 | Win/lose count 3.0/1.0 (2.0)\n",
      "Epoch 041/050 | Loss 0.0042 | Win/lose count 15.0/2.0 (13.0)\n",
      "Epoch 042/050 | Loss 0.0018 | Win/lose count 10.0/4.0 (6.0)\n",
      "Epoch 043/050 | Loss 0.0023 | Win/lose count 13.5/3.0 (10.5)\n",
      "Epoch 044/050 | Loss 0.0026 | Win/lose count 9.5/4.0 (5.5)\n",
      "Epoch 045/050 | Loss 0.0022 | Win/lose count 9.0/1.0 (8.0)\n",
      "Epoch 046/050 | Loss 0.0018 | Win/lose count 17.5/2.0 (15.5)\n",
      "Epoch 047/050 | Loss 0.0572 | Win/lose count 14.5/2.0 (12.5)\n",
      "Epoch 048/050 | Loss 0.0009 | Win/lose count 11.0/3.0 (8.0)\n",
      "Epoch 049/050 | Loss 0.0023 | Win/lose count 7.5/2.0 (5.5)\n"
     ]
    },
    {
     "data": {
      "text/html": [
       "<video alt=\"test\" controls>\n",
       "                <source src=\"data:video/mp4;base64,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\" type=\"video/mp4\" />\n",
       "             </video>"
      ],
      "text/plain": [
       "<IPython.core.display.HTML object>"
      ]
     },
     "execution_count": 17,
     "metadata": {
      "tags": []
     },
     "output_type": "execute_result"
    }
   ],
   "source": [
    "env = Environment(grid_size=size, max_time=T, temperature=0.3)\n",
    "agent = DQN_CNN(size, lr=.1, epsilon = 0.1, memory_size=2000, batch_size = 32)\n",
    "train(agent,env,epochs_train,prefix='cnn_train')\n",
    "HTML(display_videos('cnn_train10.mp4'))"
   ]
  },
  {
   "cell_type": "markdown",
   "metadata": {
    "colab_type": "text",
    "id": "YV5dWx3HIhZx"
   },
   "source": [
    "***\n",
    "***\n",
    "__Question 9__ Test both algorithms and compare their performances. Which issue(s) do you observe? Observe also different behaviors by changing the temperature."
   ]
  },
  {
   "cell_type": "code",
   "execution_count": 0,
   "metadata": {
    "colab": {
     "base_uri": "https://localhost:8080/",
     "height": 756
    },
    "colab_type": "code",
    "executionInfo": {
     "elapsed": 989180,
     "status": "ok",
     "timestamp": 1580074571667,
     "user": {
      "displayName": "Christophe V",
      "photoUrl": "",
      "userId": "02288011239955927292"
     },
     "user_tz": -60
    },
    "id": "PIa_1EWqIhZy",
    "outputId": "8da8bd76-7f46-4241-841f-8571f1920d00"
   },
   "outputs": [
    {
     "name": "stdout",
     "output_type": "stream",
     "text": [
      "Test of the CNN\n",
      "Win/lose count 8.5/3.0. Average score (5.5)\n",
      "Win/lose count 10.0/5.0. Average score (5.25)\n",
      "Win/lose count 7.0/5.0. Average score (4.166666666666667)\n",
      "Win/lose count 4.5/1.0. Average score (4.0)\n",
      "Win/lose count 7.0/3.0. Average score (4.0)\n",
      "Win/lose count 4.5/1.0. Average score (3.9166666666666665)\n",
      "Win/lose count 10.0/3.0. Average score (4.357142857142857)\n",
      "Win/lose count 3.5/2.0. Average score (4.0)\n",
      "Win/lose count 6.0/5.0. Average score (3.6666666666666665)\n",
      "Win/lose count 8.0/4.0. Average score (3.7)\n",
      "Win/lose count 4.5/2.0. Average score (3.590909090909091)\n",
      "Win/lose count 6.5/4.0. Average score (3.5)\n",
      "Win/lose count 11.0/1.0. Average score (4.0)\n",
      "Win/lose count 8.0/6.0. Average score (3.857142857142857)\n",
      "Win/lose count 8.5/2.0. Average score (4.033333333333333)\n",
      "Win/lose count 13.5/3.0. Average score (4.4375)\n",
      "Win/lose count 3.0/4.0. Average score (4.117647058823529)\n",
      "Win/lose count 7.5/0. Average score (4.305555555555555)\n",
      "Win/lose count 5.0/2.0. Average score (4.2368421052631575)\n",
      "Win/lose count 10.0/3.0. Average score (4.375)\n",
      "Final score: 4.375\n",
      "Test of the FC\n",
      "Win/lose count 2.5/4.0. Average score (-1.5)\n",
      "Win/lose count 4.0/9.0. Average score (-3.25)\n",
      "Win/lose count 0.5/7.0. Average score (-4.333333333333333)\n",
      "Win/lose count 2.5/6.0. Average score (-4.125)\n",
      "Win/lose count 4.0/9.0. Average score (-4.3)\n",
      "Win/lose count 2.0/9.0. Average score (-4.75)\n",
      "Win/lose count 3.5/7.0. Average score (-4.571428571428571)\n",
      "Win/lose count 2.5/2.0. Average score (-3.9375)\n",
      "Win/lose count 3.0/11.0. Average score (-4.388888888888889)\n",
      "Win/lose count 2.0/5.0. Average score (-4.25)\n",
      "Win/lose count 5.0/5.0. Average score (-3.8636363636363638)\n",
      "Win/lose count 4.5/6.0. Average score (-3.6666666666666665)\n",
      "Win/lose count 1.0/1.0. Average score (-3.3846153846153846)\n",
      "Win/lose count 4.0/5.0. Average score (-3.2142857142857144)\n",
      "Win/lose count 1.5/1.0. Average score (-2.966666666666667)\n",
      "Win/lose count 2.0/0. Average score (-2.65625)\n",
      "Win/lose count 3.0/7.0. Average score (-2.735294117647059)\n",
      "Win/lose count 1.5/3.0. Average score (-2.6666666666666665)\n",
      "Win/lose count 3.0/8.0. Average score (-2.789473684210526)\n",
      "Win/lose count 2.5/3.0. Average score (-2.675)\n",
      "Final score: -2.675\n"
     ]
    }
   ],
   "source": [
    "env = Environment(grid_size=size, max_time=T,temperature=0.3)\n",
    "agent_cnn = DQN_CNN(size, lr=.1, epsilon = 0.1, memory_size=2000, batch_size = 32)\n",
    "agent_cnn.load(name_weights='cnn_trainmodel.h5',name_model='cnn_trainmodel.json')\n",
    "\n",
    "agent_fc = DQN_FC(size, lr=.1, epsilon = 0.1, memory_size=2000, batch_size = 32)\n",
    "agent_cnn.load(name_weights='fc_trainmodel.h5',name_model='fc_trainmodel.json')\n",
    "print('Test of the CNN')\n",
    "test(agent_cnn,env,epochs_test,prefix='cnn_test')\n",
    "print('Test of the FC')\n",
    "test(agent_fc,env,epochs_test,prefix='fc_test')"
   ]
  },
  {
   "cell_type": "code",
   "execution_count": 0,
   "metadata": {
    "colab": {
     "base_uri": "https://localhost:8080/",
     "height": 293
    },
    "colab_type": "code",
    "executionInfo": {
     "elapsed": 989166,
     "status": "ok",
     "timestamp": 1580074571668,
     "user": {
      "displayName": "Christophe V",
      "photoUrl": "",
      "userId": "02288011239955927292"
     },
     "user_tz": -60
    },
    "id": "Ia6LA_6lIhZ0",
    "outputId": "803c7da6-fcde-4f96-94e0-c4cd513190de"
   },
   "outputs": [
    {
     "data": {
      "text/html": [
       "<video alt=\"test\" controls>\n",
       "                <source src=\"data:video/mp4;base64,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\" type=\"video/mp4\" />\n",
       "             </video>"
      ],
      "text/plain": [
       "<IPython.core.display.HTML object>"
      ]
     },
     "execution_count": 19,
     "metadata": {
      "tags": []
     },
     "output_type": "execute_result"
    }
   ],
   "source": [
    "HTML(display_videos('cnn_test10.mp4'))"
   ]
  },
  {
   "cell_type": "code",
   "execution_count": 0,
   "metadata": {
    "colab": {
     "base_uri": "https://localhost:8080/",
     "height": 293
    },
    "colab_type": "code",
    "executionInfo": {
     "elapsed": 989132,
     "status": "ok",
     "timestamp": 1580074571669,
     "user": {
      "displayName": "Christophe V",
      "photoUrl": "",
      "userId": "02288011239955927292"
     },
     "user_tz": -60
    },
    "id": "uXCCFLakIhZ2",
    "outputId": "5f25fe6b-c2c7-472f-9ff5-6f1e7b9a1067"
   },
   "outputs": [
    {
     "data": {
      "text/html": [
       "<video alt=\"test\" controls>\n",
       "                <source src=\"data:video/mp4;base64,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\" type=\"video/mp4\" />\n",
       "             </video>"
      ],
      "text/plain": [
       "<IPython.core.display.HTML object>"
      ]
     },
     "execution_count": 20,
     "metadata": {
      "tags": []
     },
     "output_type": "execute_result"
    }
   ],
   "source": [
    "HTML(display_videos('fc_test10.mp4'))"
   ]
  },
  {
   "cell_type": "code",
   "execution_count": 0,
   "metadata": {
    "colab": {
     "base_uri": "https://localhost:8080/",
     "height": 1000
    },
    "colab_type": "code",
    "executionInfo": {
     "elapsed": 31182,
     "status": "ok",
     "timestamp": 1580215301046,
     "user": {
      "displayName": "Christophe V",
      "photoUrl": "",
      "userId": "02288011239955927292"
     },
     "user_tz": -60
    },
    "id": "nQCjMnC5KVXN",
    "outputId": "10a9e0b4-81ad-4fdb-ffc3-7cd16d547ad8"
   },
   "outputs": [
    {
     "name": "stdout",
     "output_type": "stream",
     "text": [
      "WARNING:tensorflow:From /usr/local/lib/python3.6/dist-packages/keras/backend/tensorflow_backend.py:66: The name tf.get_default_graph is deprecated. Please use tf.compat.v1.get_default_graph instead.\n",
      "\n",
      "WARNING:tensorflow:From /usr/local/lib/python3.6/dist-packages/keras/backend/tensorflow_backend.py:541: The name tf.placeholder is deprecated. Please use tf.compat.v1.placeholder instead.\n",
      "\n",
      "WARNING:tensorflow:From /usr/local/lib/python3.6/dist-packages/keras/backend/tensorflow_backend.py:4432: The name tf.random_uniform is deprecated. Please use tf.random.uniform instead.\n",
      "\n",
      "WARNING:tensorflow:From /usr/local/lib/python3.6/dist-packages/keras/optimizers.py:793: The name tf.train.Optimizer is deprecated. Please use tf.compat.v1.train.Optimizer instead.\n",
      "\n",
      "WARNING:tensorflow:From /usr/local/lib/python3.6/dist-packages/keras/backend/tensorflow_backend.py:190: The name tf.get_default_session is deprecated. Please use tf.compat.v1.get_default_session instead.\n",
      "\n",
      "WARNING:tensorflow:From /usr/local/lib/python3.6/dist-packages/keras/backend/tensorflow_backend.py:197: The name tf.ConfigProto is deprecated. Please use tf.compat.v1.ConfigProto instead.\n",
      "\n",
      "WARNING:tensorflow:From /usr/local/lib/python3.6/dist-packages/keras/backend/tensorflow_backend.py:203: The name tf.Session is deprecated. Please use tf.compat.v1.Session instead.\n",
      "\n",
      "WARNING:tensorflow:From /usr/local/lib/python3.6/dist-packages/keras/backend/tensorflow_backend.py:207: The name tf.global_variables is deprecated. Please use tf.compat.v1.global_variables instead.\n",
      "\n",
      "WARNING:tensorflow:From /usr/local/lib/python3.6/dist-packages/keras/backend/tensorflow_backend.py:216: The name tf.is_variable_initialized is deprecated. Please use tf.compat.v1.is_variable_initialized instead.\n",
      "\n",
      "WARNING:tensorflow:From /usr/local/lib/python3.6/dist-packages/keras/backend/tensorflow_backend.py:223: The name tf.variables_initializer is deprecated. Please use tf.compat.v1.variables_initializer instead.\n",
      "\n",
      "Test of the CNN\n",
      "Win/lose count 4.0/1.0. Average score (3.0)\n",
      "Win/lose count 3.0/1.0. Average score (2.5)\n",
      "Win/lose count 3.5/0. Average score (2.8333333333333335)\n",
      "Win/lose count 2.5/1.0. Average score (2.5)\n",
      "Win/lose count 1.0/1.0. Average score (2.0)\n",
      "Win/lose count 2.5/0. Average score (2.0833333333333335)\n",
      "Win/lose count 5.5/0. Average score (2.5714285714285716)\n",
      "Win/lose count 3.0/5.0. Average score (2.0)\n",
      "Win/lose count 1.5/1.0. Average score (1.8333333333333333)\n",
      "Win/lose count 3.0/0. Average score (1.95)\n",
      "Win/lose count 0.5/0. Average score (1.8181818181818181)\n",
      "Win/lose count 4.0/0. Average score (2.0)\n",
      "Win/lose count 0/0. Average score (1.8461538461538463)\n",
      "Win/lose count 4.0/4.0. Average score (1.7142857142857142)\n",
      "Win/lose count 2.5/4.0. Average score (1.5)\n",
      "Win/lose count 2.5/2.0. Average score (1.4375)\n",
      "Win/lose count 2.0/1.0. Average score (1.411764705882353)\n",
      "Win/lose count 1.5/1.0. Average score (1.3611111111111112)\n",
      "Win/lose count 0.5/2.0. Average score (1.2105263157894737)\n",
      "Win/lose count 0.5/0. Average score (1.175)\n",
      "Final score: 1.175\n",
      "Test of the FC\n",
      "Win/lose count 1.0/2.0. Average score (-1.0)\n",
      "Win/lose count 0.5/0. Average score (-0.25)\n",
      "Win/lose count 1.0/3.0. Average score (-0.8333333333333334)\n",
      "Win/lose count 1.0/0. Average score (-0.375)\n",
      "Win/lose count 0.5/1.0. Average score (-0.4)\n",
      "Win/lose count 2.0/1.0. Average score (-0.16666666666666666)\n",
      "Win/lose count 1.0/2.0. Average score (-0.2857142857142857)\n",
      "Win/lose count 0.5/2.0. Average score (-0.4375)\n",
      "Win/lose count 1.5/1.0. Average score (-0.3333333333333333)\n",
      "Win/lose count 1.5/3.0. Average score (-0.45)\n",
      "Win/lose count 0.5/3.0. Average score (-0.6363636363636364)\n",
      "Win/lose count 2.5/6.0. Average score (-0.875)\n",
      "Win/lose count 0/2.0. Average score (-0.9615384615384616)\n",
      "Win/lose count 0.5/1.0. Average score (-0.9285714285714286)\n",
      "Win/lose count 1.0/1.0. Average score (-0.8666666666666667)\n",
      "Win/lose count 2.0/2.0. Average score (-0.8125)\n",
      "Win/lose count 0.5/2.0. Average score (-0.8529411764705882)\n",
      "Win/lose count 1.0/3.0. Average score (-0.9166666666666666)\n",
      "Win/lose count 0.5/3.0. Average score (-1.0)\n",
      "Win/lose count 1.0/2.0. Average score (-1.0)\n",
      "Final score: -1.0\n"
     ]
    }
   ],
   "source": [
    "env = Environment(grid_size=size, max_time=T,temperature=0.1)\n",
    "agent_cnn = DQN_CNN(size, lr=.1, epsilon = 0.1, memory_size=2000, batch_size = 32)\n",
    "agent_cnn.load(name_weights='cnn_trainmodel.h5',name_model='cnn_trainmodel.json')\n",
    "\n",
    "agent_fc = DQN_FC(size, lr=.1, epsilon = 0.1, memory_size=2000, batch_size = 32)\n",
    "agent_cnn.load(name_weights='fc_trainmodel.h5',name_model='fc_trainmodel.json')\n",
    "print('Test of the CNN')\n",
    "test(agent_cnn,env,epochs_test,prefix='cnn_test')\n",
    "print('Test of the FC')\n",
    "test(agent_fc,env,epochs_test,prefix='fc_test')"
   ]
  },
  {
   "cell_type": "code",
   "execution_count": 0,
   "metadata": {
    "colab": {
     "base_uri": "https://localhost:8080/",
     "height": 756
    },
    "colab_type": "code",
    "executionInfo": {
     "elapsed": 28696,
     "status": "ok",
     "timestamp": 1580215340070,
     "user": {
      "displayName": "Christophe V",
      "photoUrl": "",
      "userId": "02288011239955927292"
     },
     "user_tz": -60
    },
    "id": "bm6JQkbf26Pv",
    "outputId": "932b8f5b-69b1-4938-9a73-d4ad0e09d245"
   },
   "outputs": [
    {
     "name": "stdout",
     "output_type": "stream",
     "text": [
      "Test of the CNN\n",
      "Win/lose count 20.0/1.0. Average score (19.0)\n",
      "Win/lose count 15.5/2.0. Average score (16.25)\n",
      "Win/lose count 15.0/4.0. Average score (14.5)\n",
      "Win/lose count 6.0/0. Average score (12.375)\n",
      "Win/lose count 20.0/3.0. Average score (13.3)\n",
      "Win/lose count 10.0/4.0. Average score (12.083333333333334)\n",
      "Win/lose count 14.0/1.0. Average score (12.214285714285714)\n",
      "Win/lose count 21.0/2.0. Average score (13.0625)\n",
      "Win/lose count 15.0/6.0. Average score (12.61111111111111)\n",
      "Win/lose count 12.5/2.0. Average score (12.4)\n",
      "Win/lose count 20.5/3.0. Average score (12.863636363636363)\n",
      "Win/lose count 12.0/1.0. Average score (12.708333333333334)\n",
      "Win/lose count 12.0/0. Average score (12.653846153846153)\n",
      "Win/lose count 19.0/1.0. Average score (13.035714285714286)\n",
      "Win/lose count 17.5/3.0. Average score (13.133333333333333)\n",
      "Win/lose count 11.5/2.0. Average score (12.90625)\n",
      "Win/lose count 17.0/3.0. Average score (12.970588235294118)\n",
      "Win/lose count 16.0/3.0. Average score (12.972222222222221)\n",
      "Win/lose count 15.5/1.0. Average score (13.052631578947368)\n",
      "Win/lose count 14.5/3.0. Average score (12.975)\n",
      "Final score: 12.975\n",
      "Test of the FC\n",
      "Win/lose count 15.0/4.0. Average score (11.0)\n",
      "Win/lose count 17.5/4.0. Average score (12.25)\n",
      "Win/lose count 6.5/4.0. Average score (9.0)\n",
      "Win/lose count 17.0/7.0. Average score (9.25)\n",
      "Win/lose count 19.0/10.0. Average score (9.2)\n",
      "Win/lose count 14.5/4.0. Average score (9.416666666666666)\n",
      "Win/lose count 19.0/6.0. Average score (9.928571428571429)\n",
      "Win/lose count 8.0/1.0. Average score (9.5625)\n",
      "Win/lose count 13.0/6.0. Average score (9.277777777777779)\n",
      "Win/lose count 7.0/1.0. Average score (8.95)\n",
      "Win/lose count 18.0/6.0. Average score (9.227272727272727)\n",
      "Win/lose count 16.5/3.0. Average score (9.583333333333334)\n",
      "Win/lose count 14.5/5.0. Average score (9.576923076923077)\n",
      "Win/lose count 14.0/2.0. Average score (9.75)\n",
      "Win/lose count 10.0/3.0. Average score (9.566666666666666)\n",
      "Win/lose count 9.0/2.0. Average score (9.40625)\n",
      "Win/lose count 19.0/6.0. Average score (9.617647058823529)\n",
      "Win/lose count 14.5/3.0. Average score (9.722222222222221)\n",
      "Win/lose count 17.0/4.0. Average score (9.894736842105264)\n",
      "Win/lose count 20.5/6.0. Average score (10.125)\n",
      "Final score: 10.125\n"
     ]
    }
   ],
   "source": [
    "env = Environment(grid_size=size, max_time=T,temperature=0.8)\n",
    "agent_cnn = DQN_CNN(size, lr=.1, epsilon = 0.1, memory_size=2000, batch_size = 32)\n",
    "agent_cnn.load(name_weights='cnn_trainmodel.h5',name_model='cnn_trainmodel.json')\n",
    "\n",
    "agent_fc = DQN_FC(size, lr=.1, epsilon = 0.1, memory_size=2000, batch_size = 32)\n",
    "agent_cnn.load(name_weights='fc_trainmodel.h5',name_model='fc_trainmodel.json')\n",
    "print('Test of the CNN')\n",
    "test(agent_cnn,env,epochs_test,prefix='cnn_test')\n",
    "print('Test of the FC')\n",
    "test(agent_fc,env,epochs_test,prefix='fc_test')"
   ]
  },
  {
   "cell_type": "markdown",
   "metadata": {
    "colab_type": "text",
    "id": "Hidij2kqIhZ4"
   },
   "source": [
    "The temperature accounts for the the proportion of malus and bonus. Wen the temperature is smaller, they are less filled cases, so the agents tend to explore a little bit more resulting in better results.\n",
    "\n",
    "\n",
    "The method with CNN outperforms fully-connected DQN by more than $5$ points. Indeed, we win with DQN_CNN for a standard temperature of $0.3$. For a smaller temperature, the gap of performance between both approaches is smaller, while both approaches perform really well for a bigger temparature of 0.8. We can notice that training for a smaller temperature helps for the bigger one.\n",
    "\n",
    "\n",
    "When we watch the video, we can notice that both methods do not explore enough the space. Indeed, for quite a few episodes, the rat remains stuck, going back and forth between a position A and a position B. Enhancing exploration can help improving the method."
   ]
  },
  {
   "cell_type": "markdown",
   "metadata": {
    "colab_type": "text",
    "id": "U8NqtizHIhZ5"
   },
   "source": [
    "***\n",
    "\n",
    "The algorithm tends to not explore the map which can be an issue. We propose two ideas in order to encourage exploration:\n",
    "1. Incorporating a decreasing $\\epsilon$-greedy exploration. You can use the method ```set_epsilon```\n",
    "2. Append via the environment a new state that describes if a cell has been visited or not\n",
    "\n",
    "***\n",
    "__Question 10__ Design a new ```train_explore``` function and environment class ```EnvironmentExploring``` to tackle the issue of exploration.\n",
    "\n"
   ]
  },
  {
   "cell_type": "code",
   "execution_count": 0,
   "metadata": {
    "colab": {},
    "colab_type": "code",
    "id": "Ar-csp8EIhZ6"
   },
   "outputs": [],
   "source": [
    "def train_explore(agent,env,epoch,prefix=''):\n",
    "    # Number of won games\n",
    "    score = 0\n",
    "    loss = 0\n",
    "    \n",
    "    #decay 0.3 to approximately 0.1 for each epoch\n",
    "    init_eps = agent.epsilon\n",
    "    B = 0.1\n",
    "    A = init_eps - B\n",
    "    T = 5.0 / epoch\n",
    "    # decay_parameter_epsilon = 0.1\n",
    "    \n",
    "    for e in range(epoch):\n",
    "        # At each epoch, we restart to a fresh game and get the initial state\n",
    "        state = env.reset()\n",
    "        # This assumes that the games will terminate\n",
    "        game_over = False\n",
    "\n",
    "        win = 0\n",
    "        lose = 0\n",
    "        eps = A * np.exp(-e/T) + B\n",
    "        agent.set_epsilon(eps)\n",
    "        # agent.set_epsilon(max(agent.epsilon*(1-decay_parameter_epsilon), 0.1))\n",
    "        \n",
    "        while not game_over:\n",
    "            # The agent performs an action\n",
    "            action = agent.act(state)\n",
    "\n",
    "            # Apply an action to the environment, get the next state, the reward\n",
    "            # and if the games end\n",
    "            prev_state = state\n",
    "            state, reward, game_over = env.act(action)\n",
    "\n",
    "            # Update the counters\n",
    "            if reward > 0:\n",
    "                win = win + reward\n",
    "            if reward < 0:\n",
    "                lose = lose -reward\n",
    "\n",
    "            # RL agent\n",
    "            loss = agent.reinforce(prev_state, state, action, reward, game_over)\n",
    "\n",
    "        # Save as a mp4\n",
    "        if e % 10 == 0:\n",
    "            env.draw(prefix+str(e))\n",
    "\n",
    "        # Update stats\n",
    "        score += win-lose\n",
    "\n",
    "        print(\"Epoch {:03d}/{:03d} | Loss {:.4f} | Win/lose count {}/{} ({})\"\n",
    "              .format(e, epoch, loss, win, lose, win-lose))\n",
    "        agent.save(name_weights=prefix+'model.h5',name_model=prefix+'model.json')\n",
    "\n",
    "            # Apply the reinfo\n",
    "class EnvironmentExploring(object):\n",
    "    def __init__(self, grid_size=10, max_time=500, temperature=0.1):\n",
    "        grid_size = grid_size+4\n",
    "        self.grid_size = grid_size\n",
    "        self.max_time = max_time\n",
    "        self.temperature = temperature\n",
    "\n",
    "        #board on which one plays\n",
    "        self.board = np.zeros((grid_size,grid_size))\n",
    "        self.position = np.zeros((grid_size,grid_size))\n",
    "        self.malus_position = np.zeros((grid_size,grid_size))\n",
    "\n",
    "        # coordinate of the cat\n",
    "        self.x = 0\n",
    "        self.y = 1\n",
    "\n",
    "        # self time\n",
    "        self.t = 0\n",
    "\n",
    "        self.scale=16\n",
    "\n",
    "        self.to_draw = np.zeros((max_time+2, grid_size*self.scale, grid_size*self.scale, 3))\n",
    "\n",
    "\n",
    "    def draw(self, e):\n",
    "        skvideo.io.vwrite(str(e) + '.mp4', self.to_draw)\n",
    "\n",
    "    def get_frame(self, t):\n",
    "        b = np.zeros((self.grid_size,self.grid_size,3))+128\n",
    "        b[self.board>0,0] = 256\n",
    "        b[self.board < 0, 2] = 256\n",
    "        b[self.x,self.y,:]=256\n",
    "        b[-2:,:,:]=0\n",
    "        b[:,-2:,:]=0\n",
    "        b[:2,:,:]=0\n",
    "        b[:,:2,:]=0\n",
    "        \n",
    "        b =  cv2.resize(b, None, fx=self.scale, fy=self.scale, interpolation=cv2.INTER_NEAREST)\n",
    "\n",
    "        self.to_draw[t,:,:,:]=b\n",
    "\n",
    "\n",
    "    def act(self, action):\n",
    "        \"\"\"This function returns the new state, reward and decides if the\n",
    "        game ends.\"\"\"\n",
    "\n",
    "        self.get_frame(int(self.t))\n",
    "\n",
    "        self.position = np.zeros((self.grid_size, self.grid_size))\n",
    "\n",
    "        self.position[0:2,:]= -1\n",
    "        self.position[:,0:2] = -1\n",
    "        self.position[-2:, :] = -1\n",
    "        self.position[-2:, :] = -1\n",
    "\n",
    "        self.position[self.x, self.y] = 1\n",
    "        if action == 0:\n",
    "            if self.x == self.grid_size-3:\n",
    "                self.x = self.x-1\n",
    "            else:\n",
    "                self.x = self.x + 1\n",
    "        elif action == 1:\n",
    "            if self.x == 2:\n",
    "                self.x = self.x+1\n",
    "            else:\n",
    "                self.x = self.x-1\n",
    "        elif action == 2:\n",
    "            if self.y == self.grid_size - 3:\n",
    "                self.y = self.y - 1\n",
    "            else:\n",
    "                self.y = self.y + 1\n",
    "        elif action == 3:\n",
    "            if self.y == 2:\n",
    "                self.y = self.y + 1\n",
    "            else:\n",
    "                self.y = self.y - 1\n",
    "        else:\n",
    "            RuntimeError('Error: action not recognized')\n",
    "\n",
    "        self.t = self.t + 1\n",
    "        reward = 0\n",
    "        if train:\n",
    "            reward = -self.malus_position[self.x, self.y]\n",
    "        self.malus_position[self.x, self.y] = 0.1\n",
    "        reward = reward + self.board[self.x, self.y]\n",
    "        \n",
    "        self.board[self.x, self.y] = 0\n",
    "        game_over = self.t > self.max_time\n",
    "        state = np.concatenate((self.malus_position.reshape(self.grid_size, self.grid_size,1),\n",
    "                                self.board.reshape(self.grid_size, self.grid_size,1),\n",
    "                        self.position.reshape(self.grid_size, self.grid_size,1)),axis=2)\n",
    "        state = state[self.x-2:self.x+3,self.y-2:self.y+3,:]\n",
    "\n",
    "        return state, reward, game_over\n",
    "\n",
    "    def reset(self):\n",
    "        \"\"\"This function resets the game and returns the initial state\"\"\"\n",
    "\n",
    "        self.x = np.random.randint(3, self.grid_size-3, size=1)[0]\n",
    "        self.y = np.random.randint(3, self.grid_size-3, size=1)[0]\n",
    "\n",
    "\n",
    "        bonus = 0.5*np.random.binomial(1,self.temperature,size=self.grid_size**2)\n",
    "        bonus = bonus.reshape(self.grid_size,self.grid_size)\n",
    "\n",
    "        malus = -1.0*np.random.binomial(1,self.temperature,size=self.grid_size**2)\n",
    "        malus = malus.reshape(self.grid_size, self.grid_size)\n",
    "\n",
    "        self.to_draw = np.zeros((self.max_time+2, self.grid_size*self.scale, self.grid_size*self.scale, 3))\n",
    "\n",
    "\n",
    "        malus[bonus > 0]=0\n",
    "\n",
    "        self.board = bonus + malus\n",
    "\n",
    "        self.position = np.zeros((self.grid_size, self.grid_size))\n",
    "        self.position[0:2,:]= -1\n",
    "        self.position[:,0:2] = -1\n",
    "        self.position[-2:, :] = -1\n",
    "        self.position[-2:, :] = -1\n",
    "        self.board[self.x,self.y] = 0\n",
    "        self.t = 0\n",
    "        # beginning malus set to 0\n",
    "        self.malus_position = np.zeros((self.grid_size, self.grid_size))\n",
    "\n",
    "        state = np.concatenate((self.malus_position.reshape(self.grid_size, self.grid_size,1),\n",
    "                                self.board.reshape(self.grid_size, self.grid_size,1),\n",
    "                        self.position.reshape(self.grid_size, self.grid_size,1)),axis=2)\n",
    "        state = state[self.x - 2:self.x + 3, self.y - 2:self.y + 3, :]\n",
    "        return state\n",
    "\n",
    "\n",
    "    \n",
    "## use those samples of code:\n",
    "#In train explore:\n",
    "# state, reward, game_over = env.act(action, train=True)\n",
    "\n",
    "## In Environment exploring:\n",
    "# You will have to change n_state to 3 because you will use one more layer!\n",
    "# reward = 0\n",
    "# if train:\n",
    "#     reward = -self.malus_position[self.x, self.y]\n",
    "# self.malus_position[self.x, self.y] = 0.1\n",
    "\n",
    "# reward = reward + self.board[self.x, self.y]\n",
    "# # 3 \"feature\" states instead of 2\n",
    "# state = np.concatenate((self.malus_position.reshape(self.grid_size, self.grid_size,1),\n",
    "#                                 self.board.reshape(self.grid_size, self.grid_size,1),\n",
    "#                         self.position.reshape(self.grid_size, self.grid_size,1)),axis=2)"
   ]
  },
  {
   "cell_type": "code",
   "execution_count": 0,
   "metadata": {
    "colab": {
     "base_uri": "https://localhost:8080/",
     "height": 1000
    },
    "colab_type": "code",
    "executionInfo": {
     "elapsed": 509199,
     "status": "ok",
     "timestamp": 1581931570779,
     "user": {
      "displayName": "Christophe V",
      "photoUrl": "",
      "userId": "02288011239955927292"
     },
     "user_tz": -60
    },
    "id": "YG5-8zzTIhZ9",
    "outputId": "39e71cc6-09a1-4e02-96d8-0b79944528a7"
   },
   "outputs": [
    {
     "name": "stdout",
     "output_type": "stream",
     "text": [
      "WARNING:tensorflow:From /usr/local/lib/python3.6/dist-packages/keras/backend/tensorflow_backend.py:66: The name tf.get_default_graph is deprecated. Please use tf.compat.v1.get_default_graph instead.\n",
      "\n",
      "WARNING:tensorflow:From /usr/local/lib/python3.6/dist-packages/keras/backend/tensorflow_backend.py:541: The name tf.placeholder is deprecated. Please use tf.compat.v1.placeholder instead.\n",
      "\n",
      "WARNING:tensorflow:From /usr/local/lib/python3.6/dist-packages/keras/backend/tensorflow_backend.py:4432: The name tf.random_uniform is deprecated. Please use tf.random.uniform instead.\n",
      "\n",
      "WARNING:tensorflow:From /usr/local/lib/python3.6/dist-packages/keras/optimizers.py:793: The name tf.train.Optimizer is deprecated. Please use tf.compat.v1.train.Optimizer instead.\n",
      "\n",
      "WARNING:tensorflow:From /usr/local/lib/python3.6/dist-packages/keras/backend/tensorflow_backend.py:3005: The name tf.Session is deprecated. Please use tf.compat.v1.Session instead.\n",
      "\n",
      "WARNING:tensorflow:From /usr/local/lib/python3.6/dist-packages/keras/backend/tensorflow_backend.py:190: The name tf.get_default_session is deprecated. Please use tf.compat.v1.get_default_session instead.\n",
      "\n",
      "WARNING:tensorflow:From /usr/local/lib/python3.6/dist-packages/keras/backend/tensorflow_backend.py:197: The name tf.ConfigProto is deprecated. Please use tf.compat.v1.ConfigProto instead.\n",
      "\n",
      "WARNING:tensorflow:From /usr/local/lib/python3.6/dist-packages/keras/backend/tensorflow_backend.py:207: The name tf.global_variables is deprecated. Please use tf.compat.v1.global_variables instead.\n",
      "\n",
      "WARNING:tensorflow:From /usr/local/lib/python3.6/dist-packages/keras/backend/tensorflow_backend.py:216: The name tf.is_variable_initialized is deprecated. Please use tf.compat.v1.is_variable_initialized instead.\n",
      "\n",
      "WARNING:tensorflow:From /usr/local/lib/python3.6/dist-packages/keras/backend/tensorflow_backend.py:223: The name tf.variables_initializer is deprecated. Please use tf.compat.v1.variables_initializer instead.\n",
      "\n",
      "WARNING:tensorflow:From /usr/local/lib/python3.6/dist-packages/keras/backend/tensorflow_backend.py:1033: The name tf.assign_add is deprecated. Please use tf.compat.v1.assign_add instead.\n",
      "\n",
      "WARNING:tensorflow:From /usr/local/lib/python3.6/dist-packages/keras/backend/tensorflow_backend.py:1020: The name tf.assign is deprecated. Please use tf.compat.v1.assign instead.\n",
      "\n",
      "Epoch 000/050 | Loss 0.0143 | Win/lose count 12.5/22.700000000000042 (-10.200000000000042)\n",
      "Epoch 001/050 | Loss 0.0047 | Win/lose count 5.0/21.50000000000001 (-16.50000000000001)\n",
      "Epoch 002/050 | Loss 0.0084 | Win/lose count 11.0/21.200000000000053 (-10.200000000000053)\n",
      "Epoch 003/050 | Loss 0.0681 | Win/lose count 13.0/17.799999999999994 (-4.799999999999994)\n",
      "Epoch 004/050 | Loss 0.0134 | Win/lose count 4.5/21.00000000000004 (-16.50000000000004)\n",
      "Epoch 005/050 | Loss 0.0067 | Win/lose count 4.0/20.900000000000038 (-16.900000000000038)\n",
      "Epoch 006/050 | Loss 0.0075 | Win/lose count 11.0/16.59999999999997 (-5.5999999999999694)\n",
      "Epoch 007/050 | Loss 0.0073 | Win/lose count 4.5/18.900000000000006 (-14.400000000000006)\n",
      "Epoch 008/050 | Loss 0.0061 | Win/lose count 17.0/15.09999999999997 (1.9000000000000306)\n",
      "Epoch 009/050 | Loss 0.0060 | Win/lose count 20.0/15.499999999999964 (4.5000000000000355)\n",
      "Epoch 010/050 | Loss 0.0062 | Win/lose count 16.0/15.199999999999969 (0.8000000000000309)\n",
      "Epoch 011/050 | Loss 0.0040 | Win/lose count 16.0/16.599999999999966 (-0.5999999999999659)\n",
      "Epoch 012/050 | Loss 0.0055 | Win/lose count 12.5/18.29999999999997 (-5.799999999999969)\n",
      "Epoch 013/050 | Loss 0.0061 | Win/lose count 24.0/14.399999999999972 (9.600000000000028)\n",
      "Epoch 014/050 | Loss 0.0092 | Win/lose count 8.0/18.49999999999998 (-10.499999999999979)\n",
      "Epoch 015/050 | Loss 0.0099 | Win/lose count 7.5/18.499999999999993 (-10.999999999999993)\n",
      "Epoch 016/050 | Loss 0.0066 | Win/lose count 13.0/16.99999999999998 (-3.9999999999999787)\n",
      "Epoch 017/050 | Loss 0.0097 | Win/lose count 20.0/13.89999999999998 (6.100000000000019)\n",
      "Epoch 018/050 | Loss 0.0097 | Win/lose count 19.0/15.299999999999976 (3.700000000000024)\n",
      "Epoch 019/050 | Loss 0.0104 | Win/lose count 11.5/16.399999999999963 (-4.899999999999963)\n",
      "Epoch 020/050 | Loss 0.0082 | Win/lose count 21.5/12.799999999999978 (8.700000000000022)\n",
      "Epoch 021/050 | Loss 0.0119 | Win/lose count 17.5/20.000000000000007 (-2.500000000000007)\n",
      "Epoch 022/050 | Loss 0.0597 | Win/lose count 12.0/19.099999999999998 (-7.099999999999998)\n",
      "Epoch 023/050 | Loss 0.0096 | Win/lose count 16.0/15.499999999999964 (0.5000000000000355)\n",
      "Epoch 024/050 | Loss 0.0476 | Win/lose count 15.0/16.799999999999976 (-1.7999999999999758)\n",
      "Epoch 025/050 | Loss 0.0058 | Win/lose count 15.5/14.799999999999967 (0.700000000000033)\n",
      "Epoch 026/050 | Loss 0.0038 | Win/lose count 20.5/14.79999999999997 (5.7000000000000295)\n",
      "Epoch 027/050 | Loss 0.0095 | Win/lose count 14.0/17.99999999999998 (-3.9999999999999787)\n",
      "Epoch 028/050 | Loss 0.0377 | Win/lose count 19.0/13.899999999999974 (5.100000000000026)\n",
      "Epoch 029/050 | Loss 0.0265 | Win/lose count 23.5/14.799999999999967 (8.700000000000033)\n",
      "Epoch 030/050 | Loss 0.0424 | Win/lose count 20.5/15.599999999999964 (4.900000000000036)\n",
      "Epoch 031/050 | Loss 0.0088 | Win/lose count 13.5/16.199999999999967 (-2.6999999999999673)\n",
      "Epoch 032/050 | Loss 0.0108 | Win/lose count 22.5/14.499999999999972 (8.000000000000028)\n",
      "Epoch 033/050 | Loss 0.0103 | Win/lose count 18.0/16.79999999999998 (1.2000000000000206)\n",
      "Epoch 034/050 | Loss 0.0434 | Win/lose count 14.5/14.699999999999964 (-0.19999999999996376)\n",
      "Epoch 035/050 | Loss 0.0081 | Win/lose count 23.0/14.999999999999977 (8.000000000000023)\n",
      "Epoch 036/050 | Loss 0.0118 | Win/lose count 20.5/12.99999999999997 (7.50000000000003)\n",
      "Epoch 037/050 | Loss 0.0108 | Win/lose count 20.0/18.199999999999996 (1.8000000000000043)\n",
      "Epoch 038/050 | Loss 0.0081 | Win/lose count 19.5/13.79999999999997 (5.7000000000000295)\n",
      "Epoch 039/050 | Loss 0.0073 | Win/lose count 13.0/16.099999999999966 (-3.099999999999966)\n",
      "Epoch 040/050 | Loss 0.0060 | Win/lose count 20.5/13.599999999999971 (6.900000000000029)\n",
      "Epoch 041/050 | Loss 0.0056 | Win/lose count 19.5/15.199999999999969 (4.300000000000031)\n",
      "Epoch 042/050 | Loss 0.0079 | Win/lose count 10.0/16.799999999999972 (-6.799999999999972)\n",
      "Epoch 043/050 | Loss 0.0137 | Win/lose count 17.5/20.599999999999994 (-3.0999999999999943)\n",
      "Epoch 044/050 | Loss 0.0052 | Win/lose count 20.0/13.099999999999977 (6.9000000000000234)\n",
      "Epoch 045/050 | Loss 0.0175 | Win/lose count 25.0/13.799999999999976 (11.200000000000024)\n",
      "Epoch 046/050 | Loss 0.0103 | Win/lose count 21.5/14.099999999999973 (7.400000000000027)\n",
      "Epoch 047/050 | Loss 0.0062 | Win/lose count 15.5/20.400000000000023 (-4.9000000000000234)\n",
      "Epoch 048/050 | Loss 0.0120 | Win/lose count 13.0/16.99999999999998 (-3.9999999999999787)\n",
      "Epoch 049/050 | Loss 0.0088 | Win/lose count 17.5/14.399999999999975 (3.1000000000000245)\n"
     ]
    },
    {
     "data": {
      "text/html": [
       "<video alt=\"test\" controls>\n",
       "                <source src=\"data:video/mp4;base64,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\" type=\"video/mp4\" />\n",
       "             </video>"
      ],
      "text/plain": [
       "<IPython.core.display.HTML object>"
      ]
     },
     "execution_count": 18,
     "metadata": {
      "tags": []
     },
     "output_type": "execute_result"
    }
   ],
   "source": [
    "# Training\n",
    "epochs_train = 50\n",
    "env = EnvironmentExploring(grid_size=size, max_time=T, temperature=0.3)\n",
    "agent = DQN_CNN(size, lr=.1, epsilon = 0.5, memory_size=2000, batch_size = 32, n_state=3)\n",
    "train_explore(agent, env, epochs_train, prefix='cnn_train_explore')\n",
    "HTML(display_videos('cnn_train_explore10.mp4'))"
   ]
  },
  {
   "cell_type": "code",
   "execution_count": 0,
   "metadata": {
    "colab": {
     "base_uri": "https://localhost:8080/",
     "height": 814
    },
    "colab_type": "code",
    "executionInfo": {
     "elapsed": 21771,
     "status": "ok",
     "timestamp": 1581931625008,
     "user": {
      "displayName": "Christophe V",
      "photoUrl": "",
      "userId": "02288011239955927292"
     },
     "user_tz": -60
    },
    "id": "dxMX5eRoIhaA",
    "outputId": "bc83404b-36bd-4d3e-a4b1-d78e14d2cb6d"
   },
   "outputs": [
    {
     "name": "stdout",
     "output_type": "stream",
     "text": [
      "Win/lose count 19.0/15.099999999999966. Average score (3.900000000000034)\n",
      "Win/lose count 17.5/16.29999999999998. Average score (2.5500000000000274)\n",
      "Win/lose count 19.0/14.199999999999973. Average score (3.3000000000000274)\n",
      "Win/lose count 24.5/13.699999999999976. Average score (5.175000000000027)\n",
      "Win/lose count 21.5/16.399999999999984. Average score (5.160000000000025)\n",
      "Win/lose count 21.0/18.40000000000001. Average score (4.733333333333353)\n",
      "Win/lose count 21.0/15.499999999999968. Average score (4.842857142857164)\n",
      "Win/lose count 21.5/13.89999999999997. Average score (5.187500000000022)\n",
      "Win/lose count 25.0/13.79999999999997. Average score (5.855555555555578)\n",
      "Win/lose count 19.5/13.99999999999997. Average score (5.820000000000023)\n",
      "Win/lose count 20.5/13.599999999999975. Average score (5.918181818181841)\n",
      "Win/lose count 20.5/14.699999999999969. Average score (5.908333333333356)\n",
      "Win/lose count 18.5/12.399999999999972. Average score (5.923076923076946)\n",
      "Win/lose count 23.5/13.79999999999998. Average score (6.192857142857165)\n",
      "Win/lose count 13.5/14.499999999999966. Average score (5.713333333333356)\n",
      "Win/lose count 22.5/13.299999999999969. Average score (5.9312500000000234)\n",
      "Win/lose count 23.0/10.499999999999982. Average score (6.317647058823552)\n",
      "Win/lose count 19.5/14.499999999999979. Average score (6.244444444444467)\n",
      "Win/lose count 14.5/17.699999999999974. Average score (5.747368421052654)\n",
      "Win/lose count 23.5/13.099999999999977. Average score (5.9800000000000235)\n",
      "Win/lose count 12.5/17.39999999999997. Average score (5.461904761904786)\n",
      "Win/lose count 18.5/15.299999999999972. Average score (5.359090909090933)\n",
      "Win/lose count 14.0/15.899999999999968. Average score (5.04347826086959)\n",
      "Win/lose count 23.5/12.099999999999977. Average score (5.3083333333333576)\n",
      "Win/lose count 19.5/15.499999999999968. Average score (5.256000000000025)\n",
      "Win/lose count 26.0/12.699999999999978. Average score (5.56538461538464)\n",
      "Win/lose count 21.0/17.09999999999998. Average score (5.503703703703728)\n",
      "Win/lose count 16.0/16.099999999999962. Average score (5.303571428571453)\n",
      "Win/lose count 21.5/11.39999999999998. Average score (5.468965517241403)\n",
      "Win/lose count 18.5/16.59999999999997. Average score (5.3500000000000245)\n",
      "Final score: 5.3500000000000245\n"
     ]
    },
    {
     "data": {
      "text/html": [
       "<video alt=\"test\" controls>\n",
       "                <source src=\"data:video/mp4;base64,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\" type=\"video/mp4\" />\n",
       "             </video>"
      ],
      "text/plain": [
       "<IPython.core.display.HTML object>"
      ]
     },
     "execution_count": 19,
     "metadata": {
      "tags": []
     },
     "output_type": "execute_result"
    }
   ],
   "source": [
    "# Evaluation\n",
    "epochs_test = 30 # set small when debugging\n",
    "test(agent,env,epochs_test,prefix='cnn_test_explore')\n",
    "HTML(display_videos('cnn_test_explore10.mp4'))"
   ]
  },
  {
   "cell_type": "markdown",
   "metadata": {
    "colab_type": "text",
    "id": "QcvFJPQ576BN"
   },
   "source": [
    "It seems that decreasing exponentially $\\epsilon$ works better. It also outputs satisfying moves in the videos, but the performance can be a bit lower than for the previous approach, but after a few trials, it seemed to work slightly better than the previous approaches because of the degree of freedom. However, the agent doesn't memorize information on the rewards in the areas it has visited, only the fact that it visited them, so it can lose choosing not to backtrack to areas with remaining cheese."
   ]
  },
  {
   "cell_type": "markdown",
   "metadata": {
    "colab_type": "text",
    "id": "LTuHGRuLIhaE"
   },
   "source": [
    "***\n",
    "***\n",
    "__BONUS question__ Use the expert DQN from the previous question to generate some winning games. Train a model that mimicks its behavior. Compare the performances."
   ]
  },
  {
   "cell_type": "markdown",
   "metadata": {
    "colab_type": "text",
    "id": "5J___HLWIhaE"
   },
   "source": []
  },
  {
   "cell_type": "markdown",
   "metadata": {
    "colab_type": "text",
    "id": "kXbtTlssIhaF"
   },
   "source": [
    "***"
   ]
  },
  {
   "cell_type": "code",
   "execution_count": 0,
   "metadata": {
    "colab": {},
    "colab_type": "code",
    "id": "elaoWS5xpLBt"
   },
   "outputs": [],
   "source": [
    "class DQN_Mim(Agent):\n",
    "    def __init__(self, grid_size,  epsilon = 0.1, memory_size=100, batch_size = 16,n_state=2):\n",
    "        super(DQN_Mim, self).__init__(epsilon = epsilon)\n",
    "\n",
    "        # Discount for Q learning\n",
    "        self.discount = 0.99\n",
    "        \n",
    "        self.grid_size = grid_size\n",
    "        \n",
    "        # number of state\n",
    "        self.n_state = n_state\n",
    "\n",
    "        # Memory\n",
    "        self.memory = Memory(memory_size)\n",
    "        \n",
    "        # Batch size when learning\n",
    "        self.batch_size = batch_size\n",
    "\n",
    "    def learned_act(self, s):\n",
    "        return np.argmax(self.model.predict(s[None]))\n",
    "\n",
    "    def reinforce(self, s_, a_):\n",
    "        # Two steps: first memorize the states, second learn from the pool\n",
    "        self.memory.remember([s_[:,:,1:], a_]) #now we will not use the fact that our model need to verify the bellman equation but directly copy what the expert has done\n",
    "        #hence we juste need the current state and the action that has been applied\n",
    "        input_states = np.zeros((self.batch_size, 5, 5, self.n_state))\n",
    "        target_q = np.zeros((self.batch_size, 4))\n",
    "        \n",
    "        for i in range(self.batch_size):\n",
    "            s_, a_ = self.memory.random_access()\n",
    "            input_states[i] = s_\n",
    "            target_q[i,a_] = 3  #Now we want to mimick the expert hence we want our target function to be maximized \n",
    "            #in the action applied by the expert\n",
    "            \n",
    "        l = self.model.train_on_batch(input_states, target_q)\n",
    "        return l\n",
    "\n",
    "    def save(self,name_weights='model.h5',name_model='model.json'):\n",
    "        self.model.save_weights(name_weights, overwrite=True)\n",
    "        with open(name_model, \"w\") as outfile:\n",
    "            json.dump(self.model.to_json(), outfile)\n",
    "            \n",
    "    def load(self,name_weights='model.h5',name_model='model.json'):\n",
    "        with open(name_model, \"r\") as jfile:\n",
    "            model = model_from_json(json.load(jfile))\n",
    "        model.load_weights(name_weights)\n",
    "        model.compile(\"sgd\", \"mse\")\n",
    "        self.model = model\n",
    "            \n",
    "class DQN_CNN_Mim(DQN_Mim):\n",
    "    def __init__(self, *args,lr=0.1,**kwargs):\n",
    "        super(DQN_CNN_Mim, self).__init__(*args,**kwargs)\n",
    "        \n",
    "        model = Sequential()\n",
    "        model.add(Conv2D(64, kernel_size=3, input_shape=(5,5,self.n_state,),activation='relu')) #model with 1 hidden CNN performs the best\n",
    "        #with my method from what I ve experimented\n",
    "        model.add(Flatten())\n",
    "        model.add(Dense(4))\n",
    "        model.compile(sgd(lr=lr, decay=1e-4, momentum=0.0), \"mse\")\n",
    "        self.model = model"
   ]
  },
  {
   "cell_type": "code",
   "execution_count": 0,
   "metadata": {
    "colab": {},
    "colab_type": "code",
    "id": "-wPFNq1PuBnl"
   },
   "outputs": [],
   "source": [
    "def train_mimick(expert,agent,env,epoch,prefix=''):\n",
    "    # Number of won games\n",
    "    score = 0\n",
    "    loss = 0    \n",
    "    \n",
    "    for e in range(epoch):\n",
    "        # At each epoch, we restart to a fresh game and get the initial state\n",
    "        state = env.reset()\n",
    "        # This assumes that the games will terminate\n",
    "        game_over = False\n",
    "\n",
    "        win = 0\n",
    "        lose = 0\n",
    "        while not game_over:\n",
    "            # The agent performs an action\n",
    "            action = expert.act(state,train=False)\n",
    "\n",
    "            # Apply an action to the environment, get the next state, the reward\n",
    "            # and if the games end\n",
    "            prev_state = state\n",
    "            state, reward, game_over = env.act(action)\n",
    "\n",
    "            # Update the counters\n",
    "            if reward > 0:\n",
    "                win = win + reward\n",
    "            if reward < 0:\n",
    "                lose = lose -reward\n",
    "\n",
    "            # Apply the reinforcement strategy\n",
    "            loss = agent.reinforce(prev_state,  action)\n",
    "\n",
    "        # Save as a mp4\n",
    "        if e % 10 == 0:\n",
    "            env.draw(prefix+str(e))\n",
    "\n",
    "        # Update stats\n",
    "        score += win-lose\n",
    "\n",
    "        print(\"Epoch {:03d}/{:03d} | Loss {:.4f} | Win/lose count {}/{} ({})\"\n",
    "              .format(e, epoch, loss, win, lose, win-lose))\n",
    "        agent.save(name_weights=prefix+'model.h5',name_model=prefix+'model.json')"
   ]
  },
  {
   "cell_type": "code",
   "execution_count": 0,
   "metadata": {
    "colab": {
     "base_uri": "https://localhost:8080/",
     "height": 1000
    },
    "colab_type": "code",
    "executionInfo": {
     "elapsed": 95992,
     "status": "ok",
     "timestamp": 1581932004960,
     "user": {
      "displayName": "Christophe V",
      "photoUrl": "",
      "userId": "02288011239955927292"
     },
     "user_tz": -60
    },
    "id": "NILlo3yCt0yo",
    "outputId": "4dd2ce12-60b0-4058-c166-3160096dea20"
   },
   "outputs": [
    {
     "name": "stdout",
     "output_type": "stream",
     "text": [
      "Epoch 000/100 | Loss 0.0391 | Win/lose count 7.5/18.29999999999999 (-10.79999999999999)\n",
      "Epoch 001/100 | Loss 0.0051 | Win/lose count 2.5/19.300000000000004 (-16.800000000000004)\n",
      "Epoch 002/100 | Loss 0.1828 | Win/lose count 17.5/13.899999999999967 (3.6000000000000334)\n",
      "Epoch 003/100 | Loss 0.1864 | Win/lose count 12.0/16.499999999999964 (-4.4999999999999645)\n",
      "Epoch 004/100 | Loss 0.1863 | Win/lose count 12.0/16.499999999999964 (-4.4999999999999645)\n",
      "Epoch 005/100 | Loss 0.2318 | Win/lose count 17.5/13.399999999999968 (4.100000000000032)\n",
      "Epoch 006/100 | Loss 0.3646 | Win/lose count 24.0/9.99999999999998 (14.00000000000002)\n",
      "Epoch 007/100 | Loss 0.2927 | Win/lose count 19.0/12.599999999999971 (6.400000000000029)\n",
      "Epoch 008/100 | Loss 0.2350 | Win/lose count 17.5/15.199999999999962 (2.300000000000038)\n",
      "Epoch 009/100 | Loss 0.1669 | Win/lose count 15.0/14.599999999999964 (0.4000000000000359)\n",
      "Epoch 010/100 | Loss 0.2765 | Win/lose count 10.0/16.09999999999996 (-6.099999999999959)\n",
      "Epoch 011/100 | Loss 0.3285 | Win/lose count 13.0/16.09999999999996 (-3.099999999999959)\n",
      "Epoch 012/100 | Loss 0.1684 | Win/lose count 13.5/16.89999999999997 (-3.39999999999997)\n",
      "Epoch 013/100 | Loss 0.2574 | Win/lose count 11.0/15.99999999999996 (-4.999999999999959)\n",
      "Epoch 014/100 | Loss 0.0878 | Win/lose count 1.5/19.200000000000003 (-17.700000000000003)\n",
      "Epoch 015/100 | Loss 0.3244 | Win/lose count 6.5/17.099999999999973 (-10.599999999999973)\n",
      "Epoch 016/100 | Loss 0.1998 | Win/lose count 7.0/17.199999999999974 (-10.199999999999974)\n",
      "Epoch 017/100 | Loss 0.1274 | Win/lose count 10.5/16.399999999999967 (-5.899999999999967)\n",
      "Epoch 018/100 | Loss 0.1993 | Win/lose count 9.5/16.99999999999997 (-7.499999999999972)\n",
      "Epoch 019/100 | Loss 0.1907 | Win/lose count 10.5/16.79999999999997 (-6.299999999999969)\n",
      "Epoch 020/100 | Loss 0.4434 | Win/lose count 6.0/19.50000000000001 (-13.50000000000001)\n",
      "Epoch 021/100 | Loss 0.1944 | Win/lose count 12.5/15.89999999999996 (-3.3999999999999595)\n",
      "Epoch 022/100 | Loss 0.2419 | Win/lose count 8.0/16.499999999999964 (-8.499999999999964)\n",
      "Epoch 023/100 | Loss 0.1795 | Win/lose count 14.5/15.79999999999996 (-1.2999999999999599)\n",
      "Epoch 024/100 | Loss 0.1966 | Win/lose count 13.0/16.19999999999996 (-3.19999999999996)\n",
      "Epoch 025/100 | Loss 0.2204 | Win/lose count 6.5/17.199999999999974 (-10.699999999999974)\n",
      "Epoch 026/100 | Loss 0.1244 | Win/lose count 13.5/14.599999999999964 (-1.0999999999999641)\n",
      "Epoch 027/100 | Loss 0.1801 | Win/lose count 25.0/9.89999999999998 (15.10000000000002)\n",
      "Epoch 028/100 | Loss 0.1672 | Win/lose count 25.0/11.599999999999975 (13.400000000000025)\n",
      "Epoch 029/100 | Loss 0.1334 | Win/lose count 10.5/16.499999999999964 (-5.9999999999999645)\n",
      "Epoch 030/100 | Loss 0.3234 | Win/lose count 11.5/16.59999999999997 (-5.0999999999999694)\n",
      "Epoch 031/100 | Loss 0.2008 | Win/lose count 4.0/19.50000000000001 (-15.50000000000001)\n",
      "Epoch 032/100 | Loss 0.1252 | Win/lose count 5.5/18.699999999999996 (-13.199999999999996)\n",
      "Epoch 033/100 | Loss 0.3470 | Win/lose count 8.5/17.999999999999986 (-9.499999999999986)\n",
      "Epoch 034/100 | Loss 0.2273 | Win/lose count 19.0/12.199999999999973 (6.800000000000027)\n",
      "Epoch 035/100 | Loss 0.3086 | Win/lose count 9.0/17.59999999999998 (-8.59999999999998)\n",
      "Epoch 036/100 | Loss 0.3290 | Win/lose count 13.0/16.499999999999964 (-3.4999999999999645)\n",
      "Epoch 037/100 | Loss 0.3243 | Win/lose count 22.0/11.499999999999975 (10.500000000000025)\n",
      "Epoch 038/100 | Loss 0.3152 | Win/lose count 21.5/11.599999999999975 (9.900000000000025)\n",
      "Epoch 039/100 | Loss 0.1935 | Win/lose count 10.5/15.399999999999961 (-4.899999999999961)\n",
      "Epoch 040/100 | Loss 0.2624 | Win/lose count 19.0/13.399999999999968 (5.600000000000032)\n",
      "Epoch 041/100 | Loss 0.3416 | Win/lose count 14.5/15.399999999999961 (-0.8999999999999613)\n",
      "Epoch 042/100 | Loss 0.2192 | Win/lose count 5.5/18.9 (-13.399999999999999)\n",
      "Epoch 043/100 | Loss 0.1761 | Win/lose count 15.0/14.799999999999963 (0.2000000000000366)\n",
      "Epoch 044/100 | Loss 0.1552 | Win/lose count 5.0/17.69999999999998 (-12.699999999999982)\n",
      "Epoch 045/100 | Loss 0.3371 | Win/lose count 4.5/18.19999999999999 (-13.699999999999989)\n",
      "Epoch 046/100 | Loss 0.3698 | Win/lose count 16.5/12.599999999999971 (3.9000000000000288)\n",
      "Epoch 047/100 | Loss 0.3384 | Win/lose count 13.0/15.299999999999962 (-2.2999999999999616)\n",
      "Epoch 048/100 | Loss 0.2356 | Win/lose count 14.0/16.09999999999996 (-2.099999999999959)\n",
      "Epoch 049/100 | Loss 0.3812 | Win/lose count 22.0/9.89999999999998 (12.10000000000002)\n",
      "Epoch 050/100 | Loss 0.4385 | Win/lose count 14.0/17.099999999999973 (-3.099999999999973)\n",
      "Epoch 051/100 | Loss 0.2316 | Win/lose count 19.5/14.299999999999965 (5.200000000000035)\n",
      "Epoch 052/100 | Loss 0.3182 | Win/lose count 7.5/17.69999999999998 (-10.199999999999982)\n",
      "Epoch 053/100 | Loss 0.4215 | Win/lose count 15.5/14.699999999999964 (0.8000000000000362)\n",
      "Epoch 054/100 | Loss 0.1654 | Win/lose count 17.0/13.499999999999968 (3.500000000000032)\n",
      "Epoch 055/100 | Loss 0.3361 | Win/lose count 2.0/19.400000000000006 (-17.400000000000006)\n",
      "Epoch 056/100 | Loss 0.2144 | Win/lose count 11.5/15.199999999999962 (-3.699999999999962)\n",
      "Epoch 057/100 | Loss 0.3545 | Win/lose count 16.0/14.399999999999965 (1.6000000000000352)\n",
      "Epoch 058/100 | Loss 0.1228 | Win/lose count 8.0/16.599999999999966 (-8.599999999999966)\n",
      "Epoch 059/100 | Loss 0.3915 | Win/lose count 15.5/14.199999999999966 (1.3000000000000345)\n",
      "Epoch 060/100 | Loss 0.2423 | Win/lose count 21.5/9.699999999999982 (11.800000000000018)\n",
      "Epoch 061/100 | Loss 0.3269 | Win/lose count 6.5/17.49999999999998 (-10.999999999999979)\n",
      "Epoch 062/100 | Loss 0.2463 | Win/lose count 1.0/18.9 (-17.9)\n",
      "Epoch 063/100 | Loss 0.5469 | Win/lose count 20.5/12.499999999999972 (8.000000000000028)\n",
      "Epoch 064/100 | Loss 0.4453 | Win/lose count 5.0/19.50000000000001 (-14.50000000000001)\n",
      "Epoch 065/100 | Loss 0.1773 | Win/lose count 7.5/17.59999999999998 (-10.09999999999998)\n",
      "Epoch 066/100 | Loss 0.3509 | Win/lose count 9.0/16.99999999999997 (-7.999999999999972)\n",
      "Epoch 067/100 | Loss 0.3353 | Win/lose count 6.0/17.399999999999977 (-11.399999999999977)\n",
      "Epoch 068/100 | Loss 0.3609 | Win/lose count 6.5/17.799999999999983 (-11.299999999999983)\n",
      "Epoch 069/100 | Loss 0.3461 | Win/lose count 14.5/15.199999999999962 (-0.699999999999962)\n",
      "Epoch 070/100 | Loss 0.2566 | Win/lose count 22.0/14.099999999999966 (7.900000000000034)\n",
      "Epoch 071/100 | Loss 0.2818 | Win/lose count 9.5/15.89999999999996 (-6.3999999999999595)\n",
      "Epoch 072/100 | Loss 0.3710 | Win/lose count 16.0/12.499999999999972 (3.5000000000000284)\n",
      "Epoch 073/100 | Loss 0.3451 | Win/lose count 7.5/17.899999999999984 (-10.399999999999984)\n",
      "Epoch 074/100 | Loss 0.3605 | Win/lose count 10.0/18.599999999999994 (-8.599999999999994)\n",
      "Epoch 075/100 | Loss 0.2708 | Win/lose count 8.0/17.699999999999985 (-9.699999999999985)\n",
      "Epoch 076/100 | Loss 0.3834 | Win/lose count 10.5/15.89999999999996 (-5.3999999999999595)\n",
      "Epoch 077/100 | Loss 0.4029 | Win/lose count 20.0/14.099999999999966 (5.900000000000034)\n",
      "Epoch 078/100 | Loss 0.4028 | Win/lose count 13.0/14.699999999999964 (-1.6999999999999638)\n",
      "Epoch 079/100 | Loss 0.2408 | Win/lose count 7.0/17.59999999999998 (-10.59999999999998)\n",
      "Epoch 080/100 | Loss 0.4398 | Win/lose count 5.0/17.999999999999986 (-12.999999999999986)\n",
      "Epoch 081/100 | Loss 0.3556 | Win/lose count 28.5/13.79999999999997 (14.70000000000003)\n",
      "Epoch 082/100 | Loss 0.1635 | Win/lose count 20.0/13.399999999999968 (6.600000000000032)\n",
      "Epoch 083/100 | Loss 0.3371 | Win/lose count 12.0/15.89999999999996 (-3.8999999999999595)\n",
      "Epoch 084/100 | Loss 0.3042 | Win/lose count 11.0/15.69999999999996 (-4.69999999999996)\n",
      "Epoch 085/100 | Loss 0.2551 | Win/lose count 6.0/18.19999999999999 (-12.199999999999989)\n",
      "Epoch 086/100 | Loss 0.2355 | Win/lose count 22.5/12.599999999999971 (9.900000000000029)\n",
      "Epoch 087/100 | Loss 0.5756 | Win/lose count 0.5/19.80000000000001 (-19.30000000000001)\n",
      "Epoch 088/100 | Loss 0.5164 | Win/lose count 7.5/17.799999999999983 (-10.299999999999983)\n",
      "Epoch 089/100 | Loss 0.2110 | Win/lose count 10.5/17.799999999999986 (-7.2999999999999865)\n",
      "Epoch 090/100 | Loss 0.2058 | Win/lose count 27.5/11.999999999999973 (15.500000000000027)\n",
      "Epoch 091/100 | Loss 0.3602 | Win/lose count 10.5/16.699999999999967 (-6.199999999999967)\n",
      "Epoch 092/100 | Loss 0.3216 | Win/lose count 4.0/18.499999999999993 (-14.499999999999993)\n",
      "Epoch 093/100 | Loss 0.2583 | Win/lose count 6.0/17.69999999999998 (-11.699999999999982)\n",
      "Epoch 094/100 | Loss 0.2403 | Win/lose count 1.5/19.60000000000001 (-18.10000000000001)\n",
      "Epoch 095/100 | Loss 0.3681 | Win/lose count 21.0/10.999999999999977 (10.000000000000023)\n",
      "Epoch 096/100 | Loss 0.4233 | Win/lose count 27.5/9.99999999999998 (17.50000000000002)\n",
      "Epoch 097/100 | Loss 0.4345 | Win/lose count 7.0/17.49999999999998 (-10.499999999999979)\n",
      "Epoch 098/100 | Loss 0.2817 | Win/lose count 17.5/13.499999999999968 (4.000000000000032)\n",
      "Epoch 099/100 | Loss 0.3033 | Win/lose count 8.5/15.69999999999996 (-7.19999999999996)\n"
     ]
    }
   ],
   "source": [
    "epochs_train = 100\n",
    "expert = agent\n",
    "agent_n = DQN_CNN_Mim(size, lr=.1, epsilon = 0.1, memory_size=2000, batch_size = 32,n_state=2)\n",
    "env = EnvironmentExploring(grid_size=size, max_time=T, temperature=0.3)\n",
    "train_mimick(expert,agent_n, env, epochs_train, prefix='cnn_train_mimick')"
   ]
  },
  {
   "cell_type": "code",
   "execution_count": 0,
   "metadata": {
    "colab": {
     "base_uri": "https://localhost:8080/",
     "height": 538
    },
    "colab_type": "code",
    "executionInfo": {
     "elapsed": 17844,
     "status": "ok",
     "timestamp": 1581932247605,
     "user": {
      "displayName": "Christophe V",
      "photoUrl": "",
      "userId": "02288011239955927292"
     },
     "user_tz": -60
    },
    "id": "prNV_C9-uDvR",
    "outputId": "22f62527-f5ef-4a4b-f7e0-484e1d45bd06"
   },
   "outputs": [
    {
     "name": "stdout",
     "output_type": "stream",
     "text": [
      "Win/lose count 12.0/3.0. Average score (9.0)\n",
      "Win/lose count 17.5/10.0. Average score (8.25)\n",
      "Win/lose count 15.0/3.0. Average score (9.5)\n",
      "Win/lose count 19.0/2.0. Average score (11.375)\n",
      "Win/lose count 20.5/4.0. Average score (12.4)\n",
      "Win/lose count 20.0/3.0. Average score (13.166666666666666)\n",
      "Win/lose count 9.0/6.0. Average score (11.714285714285714)\n",
      "Win/lose count 12.5/3.0. Average score (11.4375)\n",
      "Win/lose count 15.0/2.0. Average score (11.61111111111111)\n",
      "Win/lose count 7.0/1.0. Average score (11.05)\n",
      "Win/lose count 7.0/2.0. Average score (10.5)\n",
      "Win/lose count 14.0/3.0. Average score (10.541666666666666)\n",
      "Win/lose count 19.0/3.0. Average score (10.961538461538462)\n",
      "Win/lose count 18.5/5.0. Average score (11.142857142857142)\n",
      "Win/lose count 19.5/5.0. Average score (11.366666666666667)\n",
      "Win/lose count 6.0/1.0. Average score (10.96875)\n",
      "Win/lose count 20.0/7.0. Average score (11.088235294117647)\n",
      "Win/lose count 11.0/2.0. Average score (10.972222222222221)\n",
      "Win/lose count 16.0/4.0. Average score (11.026315789473685)\n",
      "Win/lose count 14.5/3.0. Average score (11.05)\n",
      "Win/lose count 15.5/9.0. Average score (10.833333333333334)\n",
      "Win/lose count 9.0/2.0. Average score (10.659090909090908)\n",
      "Win/lose count 12.0/3.0. Average score (10.58695652173913)\n",
      "Win/lose count 11.5/4.0. Average score (10.458333333333334)\n",
      "Win/lose count 6.0/1.0. Average score (10.24)\n",
      "Win/lose count 10.0/2.0. Average score (10.153846153846153)\n",
      "Win/lose count 19.0/5.0. Average score (10.296296296296296)\n",
      "Win/lose count 20.0/7.0. Average score (10.392857142857142)\n",
      "Win/lose count 21.0/1.0. Average score (10.724137931034482)\n",
      "Win/lose count 10.0/1.0. Average score (10.666666666666666)\n",
      "Final score: 10.666666666666666\n"
     ]
    }
   ],
   "source": [
    "env_test = Environment(grid_size=size, max_time=T,temperature=0.3)\n",
    "test(agent_n, env_test, epochs_test,prefix='cnn_test_mimick')"
   ]
  },
  {
   "cell_type": "code",
   "execution_count": 0,
   "metadata": {
    "colab": {
     "base_uri": "https://localhost:8080/",
     "height": 293
    },
    "colab_type": "code",
    "executionInfo": {
     "elapsed": 955,
     "status": "ok",
     "timestamp": 1581932259241,
     "user": {
      "displayName": "Christophe V",
      "photoUrl": "",
      "userId": "02288011239955927292"
     },
     "user_tz": -60
    },
    "id": "RiUBdLzquSD0",
    "outputId": "b006e7f5-651b-447f-f47b-30476584ce26"
   },
   "outputs": [
    {
     "data": {
      "text/html": [
       "<video alt=\"test\" controls>\n",
       "                <source src=\"data:video/mp4;base64,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\" type=\"video/mp4\" />\n",
       "             </video>"
      ],
      "text/plain": [
       "<IPython.core.display.HTML object>"
      ]
     },
     "execution_count": 28,
     "metadata": {
      "tags": []
     },
     "output_type": "execute_result"
    }
   ],
   "source": [
    "HTML(display_videos('cnn_test_mimick10.mp4'))"
   ]
  },
  {
   "cell_type": "markdown",
   "metadata": {
    "colab_type": "text",
    "id": "MSmevhtWEMSV"
   },
   "source": [
    "It performs even better than previously quite suprisingly. Indeed, it does take less time at each epoch, so we can afford to extend the number of epochs. The results are better for an equivalent amount of time. The results have high variance though. \n",
    "\n",
    "\n",
    "All in all, based on various experiments, it seems that all methods with CNN work, but have some variance. It is even more the case for the latest method, but it allows to find schemes that can work better for testing. "
   ]
  }
 ],
 "metadata": {
  "colab": {
   "collapsed_sections": [],
   "name": "DQN_project_MVA_colab.ipynb",
   "provenance": [],
   "toc_visible": true
  },
  "kernelspec": {
   "display_name": "Python 3",
   "language": "python",
   "name": "python3"
  },
  "language_info": {
   "codemirror_mode": {
    "name": "ipython",
    "version": 3
   },
   "file_extension": ".py",
   "mimetype": "text/x-python",
   "name": "python",
   "nbconvert_exporter": "python",
   "pygments_lexer": "ipython3",
   "version": "3.7.4"
  }
 },
 "nbformat": 4,
 "nbformat_minor": 1
}
